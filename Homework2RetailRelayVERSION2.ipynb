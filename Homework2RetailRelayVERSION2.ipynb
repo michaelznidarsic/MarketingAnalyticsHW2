{
 "cells": [
  {
   "cell_type": "code",
   "execution_count": 590,
   "metadata": {},
   "outputs": [],
   "source": [
    "import os\n",
    "import pandas as pd\n",
    "import numpy as np\n",
    "import matplotlib.pylab as plt\n",
    "import seaborn as sb\n",
    "import random\n",
    "\n",
    "from sklearn.linear_model import LogisticRegression\n",
    "\n",
    "from sklearn.preprocessing import MinMaxScaler, StandardScaler\n",
    "\n",
    "import warnings\n",
    "warnings.filterwarnings(\"ignore\", category=DeprecationWarning)\n",
    "warnings.filterwarnings(\"ignore\", category=FutureWarning)"
   ]
  },
  {
   "cell_type": "code",
   "execution_count": 591,
   "metadata": {},
   "outputs": [],
   "source": [
    "train = pd.read_csv('D:\\\\relaytrain_2_2_2_2_2_2_2_2_2_2_2_2.csv')\n",
    "test = pd.read_csv('D:\\\\relaytest_2_2_2_2_2_2_2_2_2_2_2_2.csv')"
   ]
  },
  {
   "cell_type": "markdown",
   "metadata": {},
   "source": [
    "### Null Evaluation"
   ]
  },
  {
   "cell_type": "code",
   "execution_count": 592,
   "metadata": {},
   "outputs": [
    {
     "name": "stdout",
     "output_type": "stream",
     "text": [
      "lastorder     17\n",
      "firstorder    17\n",
      "created       17\n",
      "custid        17\n",
      "city           0\n",
      "favday         0\n",
      "train          0\n",
      "doorstep       0\n",
      "refill         0\n",
      "paperless      0\n",
      "ordfreq        0\n",
      "avgorder       0\n",
      "eclickrate     0\n",
      "eopenrate      0\n",
      "esent          0\n",
      "retained       0\n",
      "dtype: int64\n",
      "lastorder     3\n",
      "firstorder    3\n",
      "created       3\n",
      "custid        3\n",
      "city          0\n",
      "favday        0\n",
      "train         0\n",
      "doorstep      0\n",
      "refill        0\n",
      "paperless     0\n",
      "ordfreq       0\n",
      "avgorder      0\n",
      "eclickrate    0\n",
      "eopenrate     0\n",
      "esent         0\n",
      "retained      0\n",
      "dtype: int64\n"
     ]
    }
   ],
   "source": [
    "with pd.option_context('display.max_rows', 150):\n",
    "     print(train.isnull().sum().sort_values(ascending = False))\n",
    "\n",
    "with pd.option_context('display.max_rows', 150):\n",
    "     print(test.isnull().sum().sort_values(ascending = False))"
   ]
  },
  {
   "cell_type": "markdown",
   "metadata": {},
   "source": [
    "### Drop Lines With Nulls"
   ]
  },
  {
   "cell_type": "code",
   "execution_count": 593,
   "metadata": {},
   "outputs": [],
   "source": [
    "train = train.dropna()\n",
    "test = test.dropna()"
   ]
  },
  {
   "cell_type": "markdown",
   "metadata": {},
   "source": [
    "### Separate the Labels"
   ]
  },
  {
   "cell_type": "code",
   "execution_count": 594,
   "metadata": {},
   "outputs": [],
   "source": [
    "labeltrain = train.loc[:,'retained']\n",
    "labeltest = test.loc[:,'retained']\n",
    "\n",
    "train = train.drop(columns = 'retained')\n",
    "test = test.drop(columns = 'retained')"
   ]
  },
  {
   "cell_type": "markdown",
   "metadata": {},
   "source": [
    "### Creation of Dummy Variable 'weekend' (for question 4)"
   ]
  },
  {
   "cell_type": "code",
   "execution_count": 595,
   "metadata": {},
   "outputs": [],
   "source": [
    "weekendtrain = []\n",
    "for each in train.loc[:,'favday']:\n",
    "    if each in ['Friday','Saturday','Sunday']:\n",
    "        weekendtrain.append(1)\n",
    "    else:\n",
    "        weekendtrain.append(0)\n",
    "\n",
    "train = pd.concat([train, pd.DataFrame(weekendtrain, columns = ['weekend'], index = train.index)], axis = 1)\n",
    "\n",
    "\n",
    "weekendtest = []\n",
    "for each in test.loc[:,'favday']:\n",
    "    if each in ['Friday','Saturday','Sunday']:\n",
    "        weekendtest.append(1)\n",
    "    else:\n",
    "        weekendtest.append(0)\n",
    "        \n",
    "test = pd.concat([test, pd.DataFrame(weekendtest, columns = ['weekend'],index = test.index)], axis = 1)"
   ]
  },
  {
   "cell_type": "markdown",
   "metadata": {},
   "source": [
    "### Print Number of Each Class in Both Test and Train Datasets"
   ]
  },
  {
   "cell_type": "code",
   "execution_count": 596,
   "metadata": {},
   "outputs": [
    {
     "name": "stdout",
     "output_type": "stream",
     "text": [
      "Train 0: 5037 Train 1: 19525\n",
      "Test 0: 1286 Test 1: 4933\n"
     ]
    }
   ],
   "source": [
    "trainlabel0 = 0\n",
    "trainlabel1 = 0\n",
    "for each in labeltrain:\n",
    "    if each == 0:\n",
    "        trainlabel0 += 1\n",
    "    elif each == 1:\n",
    "        trainlabel1 += 1\n",
    "\n",
    "print('Train 0:', trainlabel0, 'Train 1:', trainlabel1)\n",
    "        \n",
    "testlabel0 = 0\n",
    "testlabel1 = 0\n",
    "for each in labeltest:\n",
    "    if each == 0:\n",
    "        testlabel0 += 1\n",
    "    elif each == 1:\n",
    "        testlabel1 += 1\n",
    "\n",
    "print('Test 0:', testlabel0, 'Test 1:', testlabel1)"
   ]
  },
  {
   "cell_type": "markdown",
   "metadata": {},
   "source": [
    "### Artificially Balance Both Datasets (optional, downsampling is randomized)"
   ]
  },
  {
   "cell_type": "code",
   "execution_count": 597,
   "metadata": {},
   "outputs": [
    {
     "data": {
      "text/plain": [
       "'\\nlabels = np.array(labeltrain)\\n\\ndefaultindex = []\\nfor ind,each in enumerate(labels):\\n    if each == 0:\\n        defaultindex.append(ind)\\n\\nselectionpool = defaultindex + list(random.sample(list(set(range(0,len(labels))) - set(defaultindex)), len(defaultindex)))\\n\\nlabeltrain = labels[selectionpool]\\ntrain = train.iloc[selectionpool,:]\\n\\n\\nlabels = np.array(labeltest)\\n\\ndefaultindex = []\\nfor ind,each in enumerate(labels):\\n    if each == 0:\\n        defaultindex.append(ind)\\n\\nselectionpool = defaultindex + list(random.sample(list(set(range(0,len(labels))) - set(defaultindex)), len(defaultindex)))\\n\\nlabeltest = labels[selectionpool]\\ntest = test.iloc[selectionpool,:]\\n'"
      ]
     },
     "execution_count": 597,
     "metadata": {},
     "output_type": "execute_result"
    }
   ],
   "source": [
    "'''\n",
    "labels = np.array(labeltrain)\n",
    "\n",
    "defaultindex = []\n",
    "for ind,each in enumerate(labels):\n",
    "    if each == 0:\n",
    "        defaultindex.append(ind)\n",
    "\n",
    "selectionpool = defaultindex + list(random.sample(list(set(range(0,len(labels))) - set(defaultindex)), len(defaultindex)))\n",
    "\n",
    "labeltrain = labels[selectionpool]\n",
    "train = train.iloc[selectionpool,:]\n",
    "\n",
    "\n",
    "labels = np.array(labeltest)\n",
    "\n",
    "defaultindex = []\n",
    "for ind,each in enumerate(labels):\n",
    "    if each == 0:\n",
    "        defaultindex.append(ind)\n",
    "\n",
    "selectionpool = defaultindex + list(random.sample(list(set(range(0,len(labels))) - set(defaultindex)), len(defaultindex)))\n",
    "\n",
    "labeltest = labels[selectionpool]\n",
    "test = test.iloc[selectionpool,:]\n",
    "'''"
   ]
  },
  {
   "cell_type": "markdown",
   "metadata": {},
   "source": [
    "### Normalize Features (optional)"
   ]
  },
  {
   "cell_type": "code",
   "execution_count": 598,
   "metadata": {},
   "outputs": [],
   "source": [
    "\n",
    "# scaler = StandardScaler()\n",
    "scaler = MinMaxScaler()\n",
    "scaler.fit(train.loc[:,['esent', 'eclickrate', 'avgorder', 'ordfreq', 'paperless', 'refill','doorstep', 'weekend']])  # .append(test.loc[:,['esent', 'eclickrate', 'avgorder', 'ordfreq', 'paperless', 'refill','doorstep', 'weekend']], ignore_index = True)\n",
    "tr = scaler.transform(train.loc[:,['esent', 'eclickrate', 'avgorder', 'ordfreq', 'paperless', 'refill','doorstep', 'weekend']])\n",
    "ts = scaler.transform(test.loc[:,['esent', 'eclickrate', 'avgorder', 'ordfreq', 'paperless', 'refill','doorstep', 'weekend']])\n",
    "\n",
    "train = pd.DataFrame(tr, columns = train.loc[:,['esent', 'eclickrate', 'avgorder', 'ordfreq', 'paperless', 'refill','doorstep', 'weekend']].columns)\n",
    "test = pd.DataFrame(ts, columns = test.loc[:,['esent', 'eclickrate', 'avgorder', 'ordfreq', 'paperless', 'refill','doorstep', 'weekend']].columns)\n"
   ]
  },
  {
   "cell_type": "code",
   "execution_count": 599,
   "metadata": {},
   "outputs": [
    {
     "data": {
      "text/html": [
       "<div>\n",
       "<style scoped>\n",
       "    .dataframe tbody tr th:only-of-type {\n",
       "        vertical-align: middle;\n",
       "    }\n",
       "\n",
       "    .dataframe tbody tr th {\n",
       "        vertical-align: top;\n",
       "    }\n",
       "\n",
       "    .dataframe thead th {\n",
       "        text-align: right;\n",
       "    }\n",
       "</style>\n",
       "<table border=\"1\" class=\"dataframe\">\n",
       "  <thead>\n",
       "    <tr style=\"text-align: right;\">\n",
       "      <th></th>\n",
       "      <th>esent</th>\n",
       "      <th>eclickrate</th>\n",
       "      <th>avgorder</th>\n",
       "      <th>ordfreq</th>\n",
       "      <th>paperless</th>\n",
       "      <th>refill</th>\n",
       "      <th>doorstep</th>\n",
       "      <th>weekend</th>\n",
       "    </tr>\n",
       "  </thead>\n",
       "  <tbody>\n",
       "    <tr>\n",
       "      <th>0</th>\n",
       "      <td>0.103943</td>\n",
       "      <td>0.034483</td>\n",
       "      <td>0.005584</td>\n",
       "      <td>0.000000</td>\n",
       "      <td>0.0</td>\n",
       "      <td>0.0</td>\n",
       "      <td>0.0</td>\n",
       "      <td>0.0</td>\n",
       "    </tr>\n",
       "    <tr>\n",
       "      <th>1</th>\n",
       "      <td>0.340502</td>\n",
       "      <td>0.105263</td>\n",
       "      <td>0.032187</td>\n",
       "      <td>0.055889</td>\n",
       "      <td>1.0</td>\n",
       "      <td>1.0</td>\n",
       "      <td>1.0</td>\n",
       "      <td>1.0</td>\n",
       "    </tr>\n",
       "    <tr>\n",
       "      <th>2</th>\n",
       "      <td>0.000000</td>\n",
       "      <td>0.000000</td>\n",
       "      <td>0.012915</td>\n",
       "      <td>0.018433</td>\n",
       "      <td>0.0</td>\n",
       "      <td>0.0</td>\n",
       "      <td>0.0</td>\n",
       "      <td>0.0</td>\n",
       "    </tr>\n",
       "    <tr>\n",
       "      <th>3</th>\n",
       "      <td>0.000000</td>\n",
       "      <td>0.000000</td>\n",
       "      <td>0.021137</td>\n",
       "      <td>0.000000</td>\n",
       "      <td>0.0</td>\n",
       "      <td>0.0</td>\n",
       "      <td>0.0</td>\n",
       "      <td>0.0</td>\n",
       "    </tr>\n",
       "    <tr>\n",
       "      <th>4</th>\n",
       "      <td>0.107527</td>\n",
       "      <td>0.133333</td>\n",
       "      <td>0.043040</td>\n",
       "      <td>0.002723</td>\n",
       "      <td>0.0</td>\n",
       "      <td>0.0</td>\n",
       "      <td>0.0</td>\n",
       "      <td>0.0</td>\n",
       "    </tr>\n",
       "    <tr>\n",
       "      <th>...</th>\n",
       "      <td>...</td>\n",
       "      <td>...</td>\n",
       "      <td>...</td>\n",
       "      <td>...</td>\n",
       "      <td>...</td>\n",
       "      <td>...</td>\n",
       "      <td>...</td>\n",
       "      <td>...</td>\n",
       "    </tr>\n",
       "    <tr>\n",
       "      <th>24557</th>\n",
       "      <td>0.017921</td>\n",
       "      <td>0.200000</td>\n",
       "      <td>0.015384</td>\n",
       "      <td>0.000000</td>\n",
       "      <td>1.0</td>\n",
       "      <td>1.0</td>\n",
       "      <td>0.0</td>\n",
       "      <td>1.0</td>\n",
       "    </tr>\n",
       "    <tr>\n",
       "      <th>24558</th>\n",
       "      <td>0.021505</td>\n",
       "      <td>0.333333</td>\n",
       "      <td>0.015391</td>\n",
       "      <td>0.000000</td>\n",
       "      <td>1.0</td>\n",
       "      <td>0.0</td>\n",
       "      <td>0.0</td>\n",
       "      <td>1.0</td>\n",
       "    </tr>\n",
       "    <tr>\n",
       "      <th>24559</th>\n",
       "      <td>0.025090</td>\n",
       "      <td>0.142857</td>\n",
       "      <td>0.015391</td>\n",
       "      <td>0.000000</td>\n",
       "      <td>1.0</td>\n",
       "      <td>1.0</td>\n",
       "      <td>0.0</td>\n",
       "      <td>0.0</td>\n",
       "    </tr>\n",
       "    <tr>\n",
       "      <th>24560</th>\n",
       "      <td>0.021505</td>\n",
       "      <td>0.333333</td>\n",
       "      <td>0.033548</td>\n",
       "      <td>0.000000</td>\n",
       "      <td>1.0</td>\n",
       "      <td>0.0</td>\n",
       "      <td>0.0</td>\n",
       "      <td>0.0</td>\n",
       "    </tr>\n",
       "    <tr>\n",
       "      <th>24561</th>\n",
       "      <td>0.017921</td>\n",
       "      <td>0.600000</td>\n",
       "      <td>0.015384</td>\n",
       "      <td>0.000000</td>\n",
       "      <td>1.0</td>\n",
       "      <td>1.0</td>\n",
       "      <td>0.0</td>\n",
       "      <td>0.0</td>\n",
       "    </tr>\n",
       "  </tbody>\n",
       "</table>\n",
       "<p>24562 rows × 8 columns</p>\n",
       "</div>"
      ],
      "text/plain": [
       "          esent  eclickrate  avgorder   ordfreq  paperless  refill  doorstep  \\\n",
       "0      0.103943    0.034483  0.005584  0.000000        0.0     0.0       0.0   \n",
       "1      0.340502    0.105263  0.032187  0.055889        1.0     1.0       1.0   \n",
       "2      0.000000    0.000000  0.012915  0.018433        0.0     0.0       0.0   \n",
       "3      0.000000    0.000000  0.021137  0.000000        0.0     0.0       0.0   \n",
       "4      0.107527    0.133333  0.043040  0.002723        0.0     0.0       0.0   \n",
       "...         ...         ...       ...       ...        ...     ...       ...   \n",
       "24557  0.017921    0.200000  0.015384  0.000000        1.0     1.0       0.0   \n",
       "24558  0.021505    0.333333  0.015391  0.000000        1.0     0.0       0.0   \n",
       "24559  0.025090    0.142857  0.015391  0.000000        1.0     1.0       0.0   \n",
       "24560  0.021505    0.333333  0.033548  0.000000        1.0     0.0       0.0   \n",
       "24561  0.017921    0.600000  0.015384  0.000000        1.0     1.0       0.0   \n",
       "\n",
       "       weekend  \n",
       "0          0.0  \n",
       "1          1.0  \n",
       "2          0.0  \n",
       "3          0.0  \n",
       "4          0.0  \n",
       "...        ...  \n",
       "24557      1.0  \n",
       "24558      1.0  \n",
       "24559      0.0  \n",
       "24560      0.0  \n",
       "24561      0.0  \n",
       "\n",
       "[24562 rows x 8 columns]"
      ]
     },
     "execution_count": 599,
     "metadata": {},
     "output_type": "execute_result"
    }
   ],
   "source": [
    "train"
   ]
  },
  {
   "cell_type": "markdown",
   "metadata": {},
   "source": [
    "### Question 1"
   ]
  },
  {
   "cell_type": "code",
   "execution_count": 600,
   "metadata": {},
   "outputs": [
    {
     "name": "stdout",
     "output_type": "stream",
     "text": [
      "Test Accuracy #1: 0.9440424505547516\n",
      "Coefficients #1: {'esent': 39.62558131710844, 'eclickrate': 1.3516982411732694, 'avgorder': -2.184933332613709, 'ordfreq': -0.8309231539271765, 'paperless': 0.6444044389549501, 'refill': 0.7268946248521851, 'doorstep': 0.7728599555173438}\n"
     ]
    },
    {
     "data": {
      "text/plain": [
       "Text(0.5, 1, 'Test Dataset Confusion Matrix')"
      ]
     },
     "execution_count": 600,
     "metadata": {},
     "output_type": "execute_result"
    },
    {
     "data": {
      "image/png": "[encoded data removed]",
      "text/plain": [
       "<Figure size 432x288 with 2 Axes>"
      ]
     },
     "metadata": {
      "needs_background": "light"
     },
     "output_type": "display_data"
    }
   ],
   "source": [
    "selection1 = ['esent', 'eclickrate', 'avgorder', 'ordfreq', 'paperless', 'refill', 'doorstep']\n",
    "LRmodel1 = LogisticRegression()\n",
    "LRmodel1.fit(train.loc[:,selection1],labeltrain)\n",
    "print('Test Accuracy #1: ' + str(LRmodel1.score(test.loc[:,selection1],labeltest)))\n",
    "\n",
    "coef1 = {}\n",
    "for ind,each in enumerate(selection1):\n",
    "    coef1[each] = LRmodel1.coef_[0][ind]\n",
    "print('Coefficients #1: ' + str(coef1))\n",
    "\n",
    "preds = LRmodel1.predict(test.loc[:,selection1])\n",
    "cf = pd.crosstab(preds, labeltest)\n",
    "sb.heatmap(cf, annot = True, cmap = \"Blues\", fmt='g')\n",
    "plt.xlabel('Actual')\n",
    "plt.ylabel('Prediction')\n",
    "plt.title('Test Dataset Confusion Matrix')"
   ]
  },
  {
   "cell_type": "markdown",
   "metadata": {},
   "source": [
    "### Question 2"
   ]
  },
  {
   "cell_type": "code",
   "execution_count": 601,
   "metadata": {},
   "outputs": [
    {
     "name": "stdout",
     "output_type": "stream",
     "text": [
      "Test Accuracy #2: 0.7932143431419842\n",
      "Coefficients #2: {'avgorder': 2.3403767046083, 'ordfreq': 0.24408475537822527, 'paperless': 0.7982273200249866, 'refill': 0.8605370262476331, 'doorstep': 0.8535677188416697}\n"
     ]
    },
    {
     "data": {
      "text/plain": [
       "Text(0.5, 1, 'Test Dataset Confusion Matrix')"
      ]
     },
     "execution_count": 601,
     "metadata": {},
     "output_type": "execute_result"
    },
    {
     "data": {
      "image/png": "[encoded data removed]",
      "text/plain": [
       "<Figure size 432x288 with 2 Axes>"
      ]
     },
     "metadata": {
      "needs_background": "light"
     },
     "output_type": "display_data"
    }
   ],
   "source": [
    "selection2 = ['avgorder', 'ordfreq', 'paperless', 'refill', 'doorstep']\n",
    "\n",
    "LRmodel2 = LogisticRegression()\n",
    "LRmodel2.fit(train.loc[:,selection2],labeltrain)\n",
    "print('Test Accuracy #2: ' + str(LRmodel2.score(test.loc[:,selection2],labeltest)))\n",
    "\n",
    "coef2 = {}\n",
    "for ind,each in enumerate(selection2):\n",
    "    coef2[each] = LRmodel2.coef_[0][ind]\n",
    "print('Coefficients #2: ' + str(coef2))\n",
    "\n",
    "preds = LRmodel2.predict(test.loc[:,selection2])\n",
    "cf = pd.crosstab(preds, labeltest)\n",
    "sb.heatmap(cf, annot = True, cmap = \"Blues\", fmt='g')\n",
    "plt.xlabel('Actual')\n",
    "plt.ylabel('Prediction')\n",
    "plt.title('Test Dataset Confusion Matrix')"
   ]
  },
  {
   "cell_type": "markdown",
   "metadata": {},
   "source": [
    "### Question 3"
   ]
  },
  {
   "cell_type": "code",
   "execution_count": 602,
   "metadata": {},
   "outputs": [
    {
     "name": "stdout",
     "output_type": "stream",
     "text": [
      "Test Accuracy #3: 0.9281234925229137\n",
      "Coefficients #3: {'esent': 40.38730309218274}\n"
     ]
    },
    {
     "data": {
      "text/plain": [
       "Text(0.5, 1, 'Test Dataset Confusion Matrix')"
      ]
     },
     "execution_count": 602,
     "metadata": {},
     "output_type": "execute_result"
    },
    {
     "data": {
      "image/png": "[encoded data removed]",
      "text/plain": [
       "<Figure size 432x288 with 2 Axes>"
      ]
     },
     "metadata": {
      "needs_background": "light"
     },
     "output_type": "display_data"
    }
   ],
   "source": [
    "selection3 = ['esent']\n",
    "\n",
    "LRmodel3 = LogisticRegression()\n",
    "LRmodel3.fit(train.loc[:,selection3],labeltrain)\n",
    "print('Test Accuracy #3: ' + str(LRmodel3.score(test.loc[:,selection3],labeltest)))\n",
    "\n",
    "coef3 = {}\n",
    "for ind,each in enumerate(selection3):\n",
    "    coef3[each] = LRmodel3.coef_[0][ind]\n",
    "print('Coefficients #3: ' + str(coef3))\n",
    "\n",
    "preds = LRmodel3.predict(test.loc[:,selection3])\n",
    "cf = pd.crosstab(preds, labeltest)\n",
    "sb.heatmap(cf, annot = True, cmap = \"Blues\", fmt='g')\n",
    "plt.xlabel('Actual')\n",
    "plt.ylabel('Prediction')\n",
    "plt.title('Test Dataset Confusion Matrix')"
   ]
  },
  {
   "cell_type": "markdown",
   "metadata": {},
   "source": [
    "### Question 4"
   ]
  },
  {
   "cell_type": "code",
   "execution_count": 603,
   "metadata": {},
   "outputs": [
    {
     "name": "stdout",
     "output_type": "stream",
     "text": [
      "Test Accuracy #4: 0.9416304872165943\n",
      "Coefficients #4: {'esent': 39.65692235039175, 'eclickrate': 1.3532293091864214, 'avgorder': -2.199111610403235, 'ordfreq': -0.8088706720526229, 'paperless': 0.6426509470667353, 'refill': 0.7221197259805169, 'doorstep': 0.7618346705318951, 'weekend': 0.17691536274766062}\n"
     ]
    },
    {
     "data": {
      "text/plain": [
       "Text(0.5, 1, 'Test Dataset Confusion Matrix')"
      ]
     },
     "execution_count": 603,
     "metadata": {},
     "output_type": "execute_result"
    },
    {
     "data": {
      "image/png": "[encoded data removed]",
      "text/plain": [
       "<Figure size 432x288 with 2 Axes>"
      ]
     },
     "metadata": {
      "needs_background": "light"
     },
     "output_type": "display_data"
    }
   ],
   "source": [
    "selection4 = ['esent', 'eclickrate', 'avgorder', 'ordfreq', 'paperless', 'refill','doorstep', 'weekend']\n",
    "\n",
    "LRmodel4 = LogisticRegression()\n",
    "LRmodel4.fit(train.loc[:,selection4],labeltrain)\n",
    "print('Test Accuracy #4: ' + str(LRmodel4.score(test.loc[:,selection4],labeltest)))\n",
    "\n",
    "coef4 = {}\n",
    "for ind,each in enumerate(selection4):\n",
    "    coef4[each] = LRmodel4.coef_[0][ind]\n",
    "print('Coefficients #4: ' + str(coef4))\n",
    "\n",
    "preds = LRmodel4.predict(test.loc[:,selection4])\n",
    "cf = pd.crosstab(preds, labeltest)\n",
    "sb.heatmap(cf, annot = True, cmap = \"Blues\", fmt='g')\n",
    "plt.xlabel('Actual')\n",
    "plt.ylabel('Prediction')\n",
    "plt.title('Test Dataset Confusion Matrix')"
   ]
  },
  {
   "cell_type": "markdown",
   "metadata": {},
   "source": [
    "### Begin RandomForest Model"
   ]
  },
  {
   "cell_type": "code",
   "execution_count": 604,
   "metadata": {},
   "outputs": [],
   "source": [
    "from sklearn.ensemble import RandomForestClassifier"
   ]
  },
  {
   "cell_type": "code",
   "execution_count": 605,
   "metadata": {},
   "outputs": [],
   "source": [
    "selection5 = ['esent', 'eclickrate', 'ordfreq', 'paperless', 'refill']"
   ]
  },
  {
   "cell_type": "code",
   "execution_count": 606,
   "metadata": {},
   "outputs": [
    {
     "name": "stdout",
     "output_type": "stream",
     "text": [
      "0.9525647210162406\n"
     ]
    },
    {
     "data": {
      "text/plain": [
       "Text(33.0, 0.5, 'Prediction')"
      ]
     },
     "execution_count": 606,
     "metadata": {},
     "output_type": "execute_result"
    },
    {
     "data": {
      "image/png": "[encoded data removed]",
      "text/plain": [
       "<Figure size 432x288 with 2 Axes>"
      ]
     },
     "metadata": {
      "needs_background": "light"
     },
     "output_type": "display_data"
    }
   ],
   "source": [
    "RFmodel = RandomForestClassifier(n_estimators = 100)\n",
    "RFmodel.fit(train.loc[:,selection5], labeltrain)\n",
    "preds = RFmodel.predict(test.loc[:,selection5])\n",
    "\n",
    "cf = pd.crosstab(preds, labeltest)\n",
    "\n",
    "print(RFmodel.score(test.loc[:,selection5],labeltest))\n",
    "\n",
    "sb.heatmap(cf, annot = True, cmap = \"Blues\", fmt='g')\n",
    "plt.xlabel('Actual')\n",
    "plt.ylabel('Prediction')"
   ]
  },
  {
   "cell_type": "markdown",
   "metadata": {},
   "source": [
    "### Begin XGBoost Model"
   ]
  },
  {
   "cell_type": "code",
   "execution_count": 607,
   "metadata": {},
   "outputs": [],
   "source": [
    "from xgboost import XGBClassifier\n",
    "import xgboost as xgb"
   ]
  },
  {
   "cell_type": "code",
   "execution_count": 608,
   "metadata": {},
   "outputs": [
    {
     "name": "stdout",
     "output_type": "stream",
     "text": [
      "0.9554590770220293\n"
     ]
    },
    {
     "data": {
      "text/plain": [
       "Text(33.0, 0.5, 'Prediction')"
      ]
     },
     "execution_count": 608,
     "metadata": {},
     "output_type": "execute_result"
    },
    {
     "data": {
      "image/png": "[encoded data removed]",
      "text/plain": [
       "<Figure size 432x288 with 2 Axes>"
      ]
     },
     "metadata": {
      "needs_background": "light"
     },
     "output_type": "display_data"
    }
   ],
   "source": [
    "XGBmodel = XGBClassifier() \n",
    "XGBmodel.fit(train.loc[:,selection5], labeltrain)\n",
    "preds = XGBmodel.predict(test.loc[:,selection5])\n",
    "\n",
    "print(XGBmodel.score(test.loc[:,selection5],labeltest))\n",
    "\n",
    "cf = pd.crosstab(preds, labeltest)\n",
    "\n",
    "sb.heatmap(cf, annot = True, cmap = \"Blues\", fmt='g')\n",
    "plt.xlabel('Actual')\n",
    "plt.ylabel('Prediction')"
   ]
  },
  {
   "cell_type": "code",
   "execution_count": 609,
   "metadata": {},
   "outputs": [
    {
     "data": {
      "text/plain": [
       "<matplotlib.axes._subplots.AxesSubplot at 0x22c1f0aa518>"
      ]
     },
     "execution_count": 609,
     "metadata": {},
     "output_type": "execute_result"
    },
    {
     "data": {
      "image/png": "[encoded data removed]",
      "text/plain": [
       "<Figure size 432x288 with 1 Axes>"
      ]
     },
     "metadata": {
      "needs_background": "light"
     },
     "output_type": "display_data"
    }
   ],
   "source": [
    "xgb.plot_importance(XGBmodel, importance_type = 'gain')"
   ]
  },
  {
   "cell_type": "code",
   "execution_count": 610,
   "metadata": {},
   "outputs": [
    {
     "data": {
      "text/plain": [
       "<matplotlib.axes._subplots.AxesSubplot at 0x22c1ee3f3c8>"
      ]
     },
     "execution_count": 610,
     "metadata": {},
     "output_type": "execute_result"
    },
    {
     "data": {
      "image/png": "[encoded data removed]",
      "text/plain": [
       "<Figure size 432x288 with 1 Axes>"
      ]
     },
     "metadata": {
      "needs_background": "light"
     },
     "output_type": "display_data"
    }
   ],
   "source": [
    "xgb.plot_importance(XGBmodel, importance_type = 'weight')"
   ]
  },
  {
   "cell_type": "code",
   "execution_count": null,
   "metadata": {},
   "outputs": [],
   "source": []
  },
  {
   "cell_type": "code",
   "execution_count": null,
   "metadata": {},
   "outputs": [],
   "source": []
  }
 ],
 "metadata": {
  "kernelspec": {
   "display_name": "Python 3",
   "language": "python",
   "name": "python3"
  },
  "language_info": {
   "codemirror_mode": {
    "name": "ipython",
    "version": 3
   },
   "file_extension": ".py",
   "mimetype": "text/x-python",
   "name": "python",
   "nbconvert_exporter": "python",
   "pygments_lexer": "ipython3",
   "version": "3.7.3"
  }
 },
 "nbformat": 4,
 "nbformat_minor": 2
}
