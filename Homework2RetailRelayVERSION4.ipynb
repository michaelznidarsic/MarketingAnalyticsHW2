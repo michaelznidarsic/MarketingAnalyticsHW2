{
 "cells": [
  {
   "cell_type": "code",
   "execution_count": 676,
   "metadata": {},
   "outputs": [],
   "source": [
    "import os\n",
    "import pandas as pd\n",
    "import numpy as np\n",
    "import matplotlib.pylab as plt\n",
    "import seaborn as sb\n",
    "import random\n",
    "\n",
    "from sklearn.linear_model import LogisticRegression\n",
    "\n",
    "from sklearn.preprocessing import MinMaxScaler, StandardScaler\n",
    "\n",
    "import warnings\n",
    "warnings.filterwarnings(\"ignore\", category=DeprecationWarning)\n",
    "warnings.filterwarnings(\"ignore\", category=FutureWarning)"
   ]
  },
  {
   "cell_type": "code",
   "execution_count": 677,
   "metadata": {},
   "outputs": [],
   "source": [
    "train = pd.read_csv('D:\\\\relaytrain_2_2_2_2_2_2_2_2_2_2_2_2.csv')\n",
    "test = pd.read_csv('D:\\\\relaytest_2_2_2_2_2_2_2_2_2_2_2_2.csv')"
   ]
  },
  {
   "cell_type": "markdown",
   "metadata": {},
   "source": [
    "### Null Evaluation"
   ]
  },
  {
   "cell_type": "code",
   "execution_count": 678,
   "metadata": {},
   "outputs": [
    {
     "name": "stdout",
     "output_type": "stream",
     "text": [
      "lastorder     17\n",
      "firstorder    17\n",
      "created       17\n",
      "custid        17\n",
      "city           0\n",
      "favday         0\n",
      "train          0\n",
      "doorstep       0\n",
      "refill         0\n",
      "paperless      0\n",
      "ordfreq        0\n",
      "avgorder       0\n",
      "eclickrate     0\n",
      "eopenrate      0\n",
      "esent          0\n",
      "retained       0\n",
      "dtype: int64\n",
      "lastorder     3\n",
      "firstorder    3\n",
      "created       3\n",
      "custid        3\n",
      "city          0\n",
      "favday        0\n",
      "train         0\n",
      "doorstep      0\n",
      "refill        0\n",
      "paperless     0\n",
      "ordfreq       0\n",
      "avgorder      0\n",
      "eclickrate    0\n",
      "eopenrate     0\n",
      "esent         0\n",
      "retained      0\n",
      "dtype: int64\n"
     ]
    }
   ],
   "source": [
    "with pd.option_context('display.max_rows', 150):\n",
    "     print(train.isnull().sum().sort_values(ascending = False))\n",
    "\n",
    "with pd.option_context('display.max_rows', 150):\n",
    "     print(test.isnull().sum().sort_values(ascending = False))"
   ]
  },
  {
   "cell_type": "markdown",
   "metadata": {},
   "source": [
    "### Drop Lines With Nulls"
   ]
  },
  {
   "cell_type": "code",
   "execution_count": 679,
   "metadata": {},
   "outputs": [],
   "source": [
    "train = train.dropna()\n",
    "test = test.dropna()"
   ]
  },
  {
   "cell_type": "markdown",
   "metadata": {},
   "source": [
    "### Separate the Labels"
   ]
  },
  {
   "cell_type": "code",
   "execution_count": 680,
   "metadata": {},
   "outputs": [],
   "source": [
    "labeltrain = train.loc[:,'retained']\n",
    "labeltest = test.loc[:,'retained']\n",
    "\n",
    "train = train.drop(columns = 'retained')\n",
    "test = test.drop(columns = 'retained')"
   ]
  },
  {
   "cell_type": "markdown",
   "metadata": {},
   "source": [
    "### Creation of Dummy Variable 'weekend' (for question 4)"
   ]
  },
  {
   "cell_type": "code",
   "execution_count": 681,
   "metadata": {},
   "outputs": [],
   "source": [
    "weekendtrain = []\n",
    "for each in train.loc[:,'favday']:\n",
    "    if each in ['Friday','Saturday','Sunday']:\n",
    "        weekendtrain.append(1)\n",
    "    else:\n",
    "        weekendtrain.append(0)\n",
    "\n",
    "train = pd.concat([train, pd.DataFrame(weekendtrain, columns = ['weekend'], index = train.index)], axis = 1)\n",
    "\n",
    "\n",
    "weekendtest = []\n",
    "for each in test.loc[:,'favday']:\n",
    "    if each in ['Friday','Saturday','Sunday']:\n",
    "        weekendtest.append(1)\n",
    "    else:\n",
    "        weekendtest.append(0)\n",
    "        \n",
    "test = pd.concat([test, pd.DataFrame(weekendtest, columns = ['weekend'],index = test.index)], axis = 1)"
   ]
  },
  {
   "cell_type": "markdown",
   "metadata": {},
   "source": [
    "### Print Number of Each Class in Both Test and Train Datasets"
   ]
  },
  {
   "cell_type": "code",
   "execution_count": 682,
   "metadata": {},
   "outputs": [
    {
     "name": "stdout",
     "output_type": "stream",
     "text": [
      "Train 0: 5037 Train 1: 19525\n",
      "Test 0: 1286 Test 1: 4933\n"
     ]
    }
   ],
   "source": [
    "trainlabel0 = 0\n",
    "trainlabel1 = 0\n",
    "for each in labeltrain:\n",
    "    if each == 0:\n",
    "        trainlabel0 += 1\n",
    "    elif each == 1:\n",
    "        trainlabel1 += 1\n",
    "\n",
    "print('Train 0:', trainlabel0, 'Train 1:', trainlabel1)\n",
    "        \n",
    "testlabel0 = 0\n",
    "testlabel1 = 0\n",
    "for each in labeltest:\n",
    "    if each == 0:\n",
    "        testlabel0 += 1\n",
    "    elif each == 1:\n",
    "        testlabel1 += 1\n",
    "\n",
    "print('Test 0:', testlabel0, 'Test 1:', testlabel1)"
   ]
  },
  {
   "cell_type": "markdown",
   "metadata": {},
   "source": [
    "### Artificially Balance Both Datasets (optional, downsampling is randomized)"
   ]
  },
  {
   "cell_type": "code",
   "execution_count": 683,
   "metadata": {},
   "outputs": [
    {
     "data": {
      "text/plain": [
       "'\\n\\nlabels = np.array(labeltest)\\n\\ndefaultindex = []\\nfor ind,each in enumerate(labels):\\n    if each == 0:\\n        defaultindex.append(ind)\\n\\nselectionpool = defaultindex + list(random.sample(list(set(range(0,len(labels))) - set(defaultindex)), len(defaultindex)))\\n\\nlabeltest = labels[selectionpool]\\ntest = test.iloc[selectionpool,:]\\n'"
      ]
     },
     "execution_count": 683,
     "metadata": {},
     "output_type": "execute_result"
    }
   ],
   "source": [
    "\n",
    "labels = np.array(labeltrain)\n",
    "\n",
    "defaultindex = []\n",
    "for ind,each in enumerate(labels):\n",
    "    if each == 0:\n",
    "        defaultindex.append(ind)\n",
    "\n",
    "selectionpool = defaultindex + list(random.sample(list(set(range(0,len(labels))) - set(defaultindex)), len(defaultindex)))\n",
    "\n",
    "labeltrain = labels[selectionpool]\n",
    "train = train.iloc[selectionpool,:]\n",
    "'''\n",
    "\n",
    "labels = np.array(labeltest)\n",
    "\n",
    "defaultindex = []\n",
    "for ind,each in enumerate(labels):\n",
    "    if each == 0:\n",
    "        defaultindex.append(ind)\n",
    "\n",
    "selectionpool = defaultindex + list(random.sample(list(set(range(0,len(labels))) - set(defaultindex)), len(defaultindex)))\n",
    "\n",
    "labeltest = labels[selectionpool]\n",
    "test = test.iloc[selectionpool,:]\n",
    "'''"
   ]
  },
  {
   "cell_type": "markdown",
   "metadata": {},
   "source": [
    "### Normalize Features (optional)"
   ]
  },
  {
   "cell_type": "code",
   "execution_count": 684,
   "metadata": {},
   "outputs": [],
   "source": [
    "\n",
    "# scaler = StandardScaler()\n",
    "scaler = MinMaxScaler()\n",
    "scaler.fit(train.loc[:,['esent', 'eclickrate', 'avgorder', 'ordfreq', 'paperless', 'refill','doorstep', 'weekend']])  # .append(test.loc[:,['esent', 'eclickrate', 'avgorder', 'ordfreq', 'paperless', 'refill','doorstep', 'weekend']], ignore_index = True)\n",
    "tr = scaler.transform(train.loc[:,['esent', 'eclickrate', 'avgorder', 'ordfreq', 'paperless', 'refill','doorstep', 'weekend']])\n",
    "ts = scaler.transform(test.loc[:,['esent', 'eclickrate', 'avgorder', 'ordfreq', 'paperless', 'refill','doorstep', 'weekend']])\n",
    "\n",
    "train = pd.DataFrame(tr, columns = train.loc[:,['esent', 'eclickrate', 'avgorder', 'ordfreq', 'paperless', 'refill','doorstep', 'weekend']].columns)\n",
    "test = pd.DataFrame(ts, columns = test.loc[:,['esent', 'eclickrate', 'avgorder', 'ordfreq', 'paperless', 'refill','doorstep', 'weekend']].columns)\n"
   ]
  },
  {
   "cell_type": "code",
   "execution_count": 685,
   "metadata": {},
   "outputs": [
    {
     "data": {
      "text/html": [
       "<div>\n",
       "<style scoped>\n",
       "    .dataframe tbody tr th:only-of-type {\n",
       "        vertical-align: middle;\n",
       "    }\n",
       "\n",
       "    .dataframe tbody tr th {\n",
       "        vertical-align: top;\n",
       "    }\n",
       "\n",
       "    .dataframe thead th {\n",
       "        text-align: right;\n",
       "    }\n",
       "</style>\n",
       "<table border=\"1\" class=\"dataframe\">\n",
       "  <thead>\n",
       "    <tr style=\"text-align: right;\">\n",
       "      <th></th>\n",
       "      <th>esent</th>\n",
       "      <th>eclickrate</th>\n",
       "      <th>avgorder</th>\n",
       "      <th>ordfreq</th>\n",
       "      <th>paperless</th>\n",
       "      <th>refill</th>\n",
       "      <th>doorstep</th>\n",
       "      <th>weekend</th>\n",
       "    </tr>\n",
       "  </thead>\n",
       "  <tbody>\n",
       "    <tr>\n",
       "      <th>0</th>\n",
       "      <td>0.128319</td>\n",
       "      <td>0.034483</td>\n",
       "      <td>0.009677</td>\n",
       "      <td>0.000000</td>\n",
       "      <td>0.0</td>\n",
       "      <td>0.0</td>\n",
       "      <td>0.0</td>\n",
       "      <td>0.0</td>\n",
       "    </tr>\n",
       "    <tr>\n",
       "      <th>1</th>\n",
       "      <td>0.000000</td>\n",
       "      <td>0.000000</td>\n",
       "      <td>0.022380</td>\n",
       "      <td>0.018433</td>\n",
       "      <td>0.0</td>\n",
       "      <td>0.0</td>\n",
       "      <td>0.0</td>\n",
       "      <td>0.0</td>\n",
       "    </tr>\n",
       "    <tr>\n",
       "      <th>2</th>\n",
       "      <td>0.000000</td>\n",
       "      <td>0.000000</td>\n",
       "      <td>0.036630</td>\n",
       "      <td>0.000000</td>\n",
       "      <td>0.0</td>\n",
       "      <td>0.0</td>\n",
       "      <td>0.0</td>\n",
       "      <td>0.0</td>\n",
       "    </tr>\n",
       "    <tr>\n",
       "      <th>3</th>\n",
       "      <td>0.070796</td>\n",
       "      <td>0.000000</td>\n",
       "      <td>0.039489</td>\n",
       "      <td>0.039801</td>\n",
       "      <td>1.0</td>\n",
       "      <td>1.0</td>\n",
       "      <td>0.0</td>\n",
       "      <td>0.0</td>\n",
       "    </tr>\n",
       "    <tr>\n",
       "      <th>4</th>\n",
       "      <td>0.057522</td>\n",
       "      <td>0.153846</td>\n",
       "      <td>0.104331</td>\n",
       "      <td>0.036650</td>\n",
       "      <td>1.0</td>\n",
       "      <td>0.0</td>\n",
       "      <td>0.0</td>\n",
       "      <td>0.0</td>\n",
       "    </tr>\n",
       "    <tr>\n",
       "      <th>...</th>\n",
       "      <td>...</td>\n",
       "      <td>...</td>\n",
       "      <td>...</td>\n",
       "      <td>...</td>\n",
       "      <td>...</td>\n",
       "      <td>...</td>\n",
       "      <td>...</td>\n",
       "      <td>...</td>\n",
       "    </tr>\n",
       "    <tr>\n",
       "      <th>10069</th>\n",
       "      <td>0.141593</td>\n",
       "      <td>0.000000</td>\n",
       "      <td>0.033911</td>\n",
       "      <td>0.025641</td>\n",
       "      <td>1.0</td>\n",
       "      <td>0.0</td>\n",
       "      <td>0.0</td>\n",
       "      <td>0.0</td>\n",
       "    </tr>\n",
       "    <tr>\n",
       "      <th>10070</th>\n",
       "      <td>0.194690</td>\n",
       "      <td>0.000000</td>\n",
       "      <td>0.062869</td>\n",
       "      <td>0.038462</td>\n",
       "      <td>0.0</td>\n",
       "      <td>0.0</td>\n",
       "      <td>0.0</td>\n",
       "      <td>1.0</td>\n",
       "    </tr>\n",
       "    <tr>\n",
       "      <th>10071</th>\n",
       "      <td>0.185841</td>\n",
       "      <td>0.000000</td>\n",
       "      <td>0.048713</td>\n",
       "      <td>0.065934</td>\n",
       "      <td>0.0</td>\n",
       "      <td>0.0</td>\n",
       "      <td>0.0</td>\n",
       "      <td>0.0</td>\n",
       "    </tr>\n",
       "    <tr>\n",
       "      <th>10072</th>\n",
       "      <td>0.199115</td>\n",
       "      <td>0.022222</td>\n",
       "      <td>0.067681</td>\n",
       "      <td>0.000000</td>\n",
       "      <td>1.0</td>\n",
       "      <td>0.0</td>\n",
       "      <td>0.0</td>\n",
       "      <td>0.0</td>\n",
       "    </tr>\n",
       "    <tr>\n",
       "      <th>10073</th>\n",
       "      <td>0.172566</td>\n",
       "      <td>0.000000</td>\n",
       "      <td>0.061656</td>\n",
       "      <td>0.025641</td>\n",
       "      <td>1.0</td>\n",
       "      <td>0.0</td>\n",
       "      <td>0.0</td>\n",
       "      <td>1.0</td>\n",
       "    </tr>\n",
       "  </tbody>\n",
       "</table>\n",
       "<p>10074 rows × 8 columns</p>\n",
       "</div>"
      ],
      "text/plain": [
       "          esent  eclickrate  avgorder   ordfreq  paperless  refill  doorstep  \\\n",
       "0      0.128319    0.034483  0.009677  0.000000        0.0     0.0       0.0   \n",
       "1      0.000000    0.000000  0.022380  0.018433        0.0     0.0       0.0   \n",
       "2      0.000000    0.000000  0.036630  0.000000        0.0     0.0       0.0   \n",
       "3      0.070796    0.000000  0.039489  0.039801        1.0     1.0       0.0   \n",
       "4      0.057522    0.153846  0.104331  0.036650        1.0     0.0       0.0   \n",
       "...         ...         ...       ...       ...        ...     ...       ...   \n",
       "10069  0.141593    0.000000  0.033911  0.025641        1.0     0.0       0.0   \n",
       "10070  0.194690    0.000000  0.062869  0.038462        0.0     0.0       0.0   \n",
       "10071  0.185841    0.000000  0.048713  0.065934        0.0     0.0       0.0   \n",
       "10072  0.199115    0.022222  0.067681  0.000000        1.0     0.0       0.0   \n",
       "10073  0.172566    0.000000  0.061656  0.025641        1.0     0.0       0.0   \n",
       "\n",
       "       weekend  \n",
       "0          0.0  \n",
       "1          0.0  \n",
       "2          0.0  \n",
       "3          0.0  \n",
       "4          0.0  \n",
       "...        ...  \n",
       "10069      0.0  \n",
       "10070      1.0  \n",
       "10071      0.0  \n",
       "10072      0.0  \n",
       "10073      1.0  \n",
       "\n",
       "[10074 rows x 8 columns]"
      ]
     },
     "execution_count": 685,
     "metadata": {},
     "output_type": "execute_result"
    }
   ],
   "source": [
    "train"
   ]
  },
  {
   "cell_type": "markdown",
   "metadata": {},
   "source": [
    "### Question 1"
   ]
  },
  {
   "cell_type": "code",
   "execution_count": 686,
   "metadata": {},
   "outputs": [
    {
     "name": "stdout",
     "output_type": "stream",
     "text": [
      "Test Accuracy #1: 0.8882456986653803\n",
      "Coefficients #1: {'esent': 29.316222208492714, 'eclickrate': 1.208152323634519, 'avgorder': -1.6998073720901972, 'ordfreq': -0.8638095830050568, 'paperless': 0.5736564394684374, 'refill': 0.6381666765219164, 'doorstep': 0.7122734091523081}\n"
     ]
    },
    {
     "data": {
      "text/plain": [
       "Text(0.5, 1, 'Test Dataset Confusion Matrix')"
      ]
     },
     "execution_count": 686,
     "metadata": {},
     "output_type": "execute_result"
    },
    {
     "data": {
      "image/png": "[encoded data removed]",
      "text/plain": [
       "<Figure size 432x288 with 2 Axes>"
      ]
     },
     "metadata": {
      "needs_background": "light"
     },
     "output_type": "display_data"
    }
   ],
   "source": [
    "selection1 = ['esent', 'eclickrate', 'avgorder', 'ordfreq', 'paperless', 'refill', 'doorstep']\n",
    "LRmodel1 = LogisticRegression()\n",
    "LRmodel1.fit(train.loc[:,selection1],labeltrain)\n",
    "print('Test Accuracy #1: ' + str(LRmodel1.score(test.loc[:,selection1],labeltest)))\n",
    "\n",
    "coef1 = {}\n",
    "for ind,each in enumerate(selection1):\n",
    "    coef1[each] = LRmodel1.coef_[0][ind]\n",
    "print('Coefficients #1: ' + str(coef1))\n",
    "\n",
    "preds = LRmodel1.predict(test.loc[:,selection1])\n",
    "cf = pd.crosstab(preds, labeltest)\n",
    "sb.heatmap(cf, annot = True, cmap = \"Blues\", fmt='g')\n",
    "plt.xlabel('Actual')\n",
    "plt.ylabel('Prediction')\n",
    "plt.title('Test Dataset Confusion Matrix')"
   ]
  },
  {
   "cell_type": "markdown",
   "metadata": {},
   "source": [
    "### Question 2"
   ]
  },
  {
   "cell_type": "code",
   "execution_count": 687,
   "metadata": {},
   "outputs": [
    {
     "name": "stdout",
     "output_type": "stream",
     "text": [
      "Test Accuracy #2: 0.6685962373371924\n",
      "Coefficients #2: {'avgorder': 1.6755672872402587, 'ordfreq': 0.24169102031452075, 'paperless': 0.8462471610169169, 'refill': 0.8542081034318408, 'doorstep': 0.8571487433719343}\n"
     ]
    },
    {
     "data": {
      "text/plain": [
       "Text(0.5, 1, 'Test Dataset Confusion Matrix')"
      ]
     },
     "execution_count": 687,
     "metadata": {},
     "output_type": "execute_result"
    },
    {
     "data": {
      "image/png": "[encoded data removed]",
      "text/plain": [
       "<Figure size 432x288 with 2 Axes>"
      ]
     },
     "metadata": {
      "needs_background": "light"
     },
     "output_type": "display_data"
    }
   ],
   "source": [
    "selection2 = ['avgorder', 'ordfreq', 'paperless', 'refill', 'doorstep']\n",
    "\n",
    "LRmodel2 = LogisticRegression()\n",
    "LRmodel2.fit(train.loc[:,selection2],labeltrain)\n",
    "print('Test Accuracy #2: ' + str(LRmodel2.score(test.loc[:,selection2],labeltest)))\n",
    "\n",
    "coef2 = {}\n",
    "for ind,each in enumerate(selection2):\n",
    "    coef2[each] = LRmodel2.coef_[0][ind]\n",
    "print('Coefficients #2: ' + str(coef2))\n",
    "\n",
    "preds = LRmodel2.predict(test.loc[:,selection2])\n",
    "cf = pd.crosstab(preds, labeltest)\n",
    "sb.heatmap(cf, annot = True, cmap = \"Blues\", fmt='g')\n",
    "plt.xlabel('Actual')\n",
    "plt.ylabel('Prediction')\n",
    "plt.title('Test Dataset Confusion Matrix')"
   ]
  },
  {
   "cell_type": "markdown",
   "metadata": {},
   "source": [
    "### Question 3"
   ]
  },
  {
   "cell_type": "code",
   "execution_count": 688,
   "metadata": {},
   "outputs": [
    {
     "name": "stdout",
     "output_type": "stream",
     "text": [
      "Test Accuracy #3: 0.88374336710082\n",
      "Coefficients #3: {'esent': 29.69466451418873}\n"
     ]
    },
    {
     "data": {
      "text/plain": [
       "Text(0.5, 1, 'Test Dataset Confusion Matrix')"
      ]
     },
     "execution_count": 688,
     "metadata": {},
     "output_type": "execute_result"
    },
    {
     "data": {
      "image/png": "[encoded data removed]",
      "text/plain": [
       "<Figure size 432x288 with 2 Axes>"
      ]
     },
     "metadata": {
      "needs_background": "light"
     },
     "output_type": "display_data"
    }
   ],
   "source": [
    "selection3 = ['esent']\n",
    "\n",
    "LRmodel3 = LogisticRegression()\n",
    "LRmodel3.fit(train.loc[:,selection3],labeltrain)\n",
    "print('Test Accuracy #3: ' + str(LRmodel3.score(test.loc[:,selection3],labeltest)))\n",
    "\n",
    "coef3 = {}\n",
    "for ind,each in enumerate(selection3):\n",
    "    coef3[each] = LRmodel3.coef_[0][ind]\n",
    "print('Coefficients #3: ' + str(coef3))\n",
    "\n",
    "preds = LRmodel3.predict(test.loc[:,selection3])\n",
    "cf = pd.crosstab(preds, labeltest)\n",
    "sb.heatmap(cf, annot = True, cmap = \"Blues\", fmt='g')\n",
    "plt.xlabel('Actual')\n",
    "plt.ylabel('Prediction')\n",
    "plt.title('Test Dataset Confusion Matrix')"
   ]
  },
  {
   "cell_type": "markdown",
   "metadata": {},
   "source": [
    "### Question 4"
   ]
  },
  {
   "cell_type": "code",
   "execution_count": 689,
   "metadata": {},
   "outputs": [
    {
     "name": "stdout",
     "output_type": "stream",
     "text": [
      "Test Accuracy #4: 0.8879241035536259\n",
      "Coefficients #4: {'esent': 29.352123150005607, 'eclickrate': 1.2172145337865712, 'avgorder': -1.6680570378141701, 'ordfreq': -0.8566560659561708, 'paperless': 0.5767488633371592, 'refill': 0.6387355857719632, 'doorstep': 0.7034915600678957, 'weekend': 0.19593981913194802}\n"
     ]
    },
    {
     "data": {
      "text/plain": [
       "Text(0.5, 1, 'Test Dataset Confusion Matrix')"
      ]
     },
     "execution_count": 689,
     "metadata": {},
     "output_type": "execute_result"
    },
    {
     "data": {
      "image/png": "[encoded data removed]",
      "text/plain": [
       "<Figure size 432x288 with 2 Axes>"
      ]
     },
     "metadata": {
      "needs_background": "light"
     },
     "output_type": "display_data"
    }
   ],
   "source": [
    "selection4 = ['esent', 'eclickrate', 'avgorder', 'ordfreq', 'paperless', 'refill','doorstep', 'weekend']\n",
    "\n",
    "LRmodel4 = LogisticRegression()\n",
    "LRmodel4.fit(train.loc[:,selection4],labeltrain)\n",
    "print('Test Accuracy #4: ' + str(LRmodel4.score(test.loc[:,selection4],labeltest)))\n",
    "\n",
    "coef4 = {}\n",
    "for ind,each in enumerate(selection4):\n",
    "    coef4[each] = LRmodel4.coef_[0][ind]\n",
    "print('Coefficients #4: ' + str(coef4))\n",
    "\n",
    "preds = LRmodel4.predict(test.loc[:,selection4])\n",
    "cf = pd.crosstab(preds, labeltest)\n",
    "sb.heatmap(cf, annot = True, cmap = \"Blues\", fmt='g')\n",
    "plt.xlabel('Actual')\n",
    "plt.ylabel('Prediction')\n",
    "plt.title('Test Dataset Confusion Matrix')"
   ]
  },
  {
   "cell_type": "markdown",
   "metadata": {},
   "source": [
    "### Begin RandomForest Model"
   ]
  },
  {
   "cell_type": "code",
   "execution_count": 690,
   "metadata": {},
   "outputs": [],
   "source": [
    "from sklearn.ensemble import RandomForestClassifier"
   ]
  },
  {
   "cell_type": "code",
   "execution_count": 691,
   "metadata": {},
   "outputs": [],
   "source": [
    "selection5 = ['esent', 'eclickrate', 'ordfreq', 'paperless', 'refill']"
   ]
  },
  {
   "cell_type": "code",
   "execution_count": 692,
   "metadata": {},
   "outputs": [
    {
     "name": "stdout",
     "output_type": "stream",
     "text": [
      "0.9208876025084419\n"
     ]
    },
    {
     "data": {
      "text/plain": [
       "Text(33.0, 0.5, 'Prediction')"
      ]
     },
     "execution_count": 692,
     "metadata": {},
     "output_type": "execute_result"
    },
    {
     "data": {
      "image/png": "[encoded data removed]",
      "text/plain": [
       "<Figure size 432x288 with 2 Axes>"
      ]
     },
     "metadata": {
      "needs_background": "light"
     },
     "output_type": "display_data"
    }
   ],
   "source": [
    "RFmodel = RandomForestClassifier(n_estimators = 100)\n",
    "RFmodel.fit(train.loc[:,selection5], labeltrain)\n",
    "preds = RFmodel.predict(test.loc[:,selection5])\n",
    "\n",
    "cf = pd.crosstab(preds, labeltest)\n",
    "\n",
    "print(RFmodel.score(test.loc[:,selection5],labeltest))\n",
    "\n",
    "sb.heatmap(cf, annot = True, cmap = \"Blues\", fmt='g')\n",
    "plt.xlabel('Actual')\n",
    "plt.ylabel('Prediction')"
   ]
  },
  {
   "cell_type": "markdown",
   "metadata": {},
   "source": [
    "### Begin XGBoost Model"
   ]
  },
  {
   "cell_type": "code",
   "execution_count": 693,
   "metadata": {},
   "outputs": [],
   "source": [
    "from xgboost import XGBClassifier\n",
    "import xgboost as xgb"
   ]
  },
  {
   "cell_type": "code",
   "execution_count": 694,
   "metadata": {},
   "outputs": [
    {
     "name": "stdout",
     "output_type": "stream",
     "text": [
      "0.9334298118668596\n"
     ]
    },
    {
     "data": {
      "text/plain": [
       "Text(33.0, 0.5, 'Prediction')"
      ]
     },
     "execution_count": 694,
     "metadata": {},
     "output_type": "execute_result"
    },
    {
     "data": {
      "image/png": "[encoded data removed]",
      "text/plain": [
       "<Figure size 432x288 with 2 Axes>"
      ]
     },
     "metadata": {
      "needs_background": "light"
     },
     "output_type": "display_data"
    }
   ],
   "source": [
    "XGBmodel = XGBClassifier() \n",
    "XGBmodel.fit(train.loc[:,selection5], labeltrain)\n",
    "preds = XGBmodel.predict(test.loc[:,selection5])\n",
    "\n",
    "print(XGBmodel.score(test.loc[:,selection5],labeltest))\n",
    "\n",
    "cf = pd.crosstab(preds, labeltest)\n",
    "\n",
    "sb.heatmap(cf, annot = True, cmap = \"Blues\", fmt='g')\n",
    "plt.xlabel('Actual')\n",
    "plt.ylabel('Prediction')"
   ]
  },
  {
   "cell_type": "code",
   "execution_count": 695,
   "metadata": {},
   "outputs": [
    {
     "data": {
      "text/plain": [
       "<matplotlib.axes._subplots.AxesSubplot at 0x22c21508630>"
      ]
     },
     "execution_count": 695,
     "metadata": {},
     "output_type": "execute_result"
    },
    {
     "data": {
      "image/png": "[encoded data removed]",
      "text/plain": [
       "<Figure size 432x288 with 1 Axes>"
      ]
     },
     "metadata": {
      "needs_background": "light"
     },
     "output_type": "display_data"
    }
   ],
   "source": [
    "xgb.plot_importance(XGBmodel, importance_type = 'gain')"
   ]
  },
  {
   "cell_type": "code",
   "execution_count": 696,
   "metadata": {},
   "outputs": [
    {
     "data": {
      "text/plain": [
       "<matplotlib.axes._subplots.AxesSubplot at 0x22c21580f60>"
      ]
     },
     "execution_count": 696,
     "metadata": {},
     "output_type": "execute_result"
    },
    {
     "data": {
      "image/png": "[encoded data removed]",
      "text/plain": [
       "<Figure size 432x288 with 1 Axes>"
      ]
     },
     "metadata": {
      "needs_background": "light"
     },
     "output_type": "display_data"
    }
   ],
   "source": [
    "xgb.plot_importance(XGBmodel, importance_type = 'weight')"
   ]
  },
  {
   "cell_type": "code",
   "execution_count": null,
   "metadata": {},
   "outputs": [],
   "source": []
  },
  {
   "cell_type": "code",
   "execution_count": null,
   "metadata": {},
   "outputs": [],
   "source": []
  }
 ],
 "metadata": {
  "kernelspec": {
   "display_name": "Python 3",
   "language": "python",
   "name": "python3"
  },
  "language_info": {
   "codemirror_mode": {
    "name": "ipython",
    "version": 3
   },
   "file_extension": ".py",
   "mimetype": "text/x-python",
   "name": "python",
   "nbconvert_exporter": "python",
   "pygments_lexer": "ipython3",
   "version": "3.7.3"
  }
 },
 "nbformat": 4,
 "nbformat_minor": 2
}
