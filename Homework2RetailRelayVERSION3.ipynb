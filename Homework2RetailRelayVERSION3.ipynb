{
 "cells": [
  {
   "cell_type": "code",
   "execution_count": 655,
   "metadata": {},
   "outputs": [],
   "source": [
    "import os\n",
    "import pandas as pd\n",
    "import numpy as np\n",
    "import matplotlib.pylab as plt\n",
    "import seaborn as sb\n",
    "import random\n",
    "\n",
    "from sklearn.linear_model import LogisticRegression\n",
    "\n",
    "from sklearn.preprocessing import MinMaxScaler, StandardScaler\n",
    "\n",
    "import warnings\n",
    "warnings.filterwarnings(\"ignore\", category=DeprecationWarning)\n",
    "warnings.filterwarnings(\"ignore\", category=FutureWarning)"
   ]
  },
  {
   "cell_type": "code",
   "execution_count": 656,
   "metadata": {},
   "outputs": [],
   "source": [
    "train = pd.read_csv('D:\\\\relaytrain_2_2_2_2_2_2_2_2_2_2_2_2.csv')\n",
    "test = pd.read_csv('D:\\\\relaytest_2_2_2_2_2_2_2_2_2_2_2_2.csv')"
   ]
  },
  {
   "cell_type": "markdown",
   "metadata": {},
   "source": [
    "### Null Evaluation"
   ]
  },
  {
   "cell_type": "code",
   "execution_count": 657,
   "metadata": {},
   "outputs": [
    {
     "name": "stdout",
     "output_type": "stream",
     "text": [
      "lastorder     17\n",
      "firstorder    17\n",
      "created       17\n",
      "custid        17\n",
      "city           0\n",
      "favday         0\n",
      "train          0\n",
      "doorstep       0\n",
      "refill         0\n",
      "paperless      0\n",
      "ordfreq        0\n",
      "avgorder       0\n",
      "eclickrate     0\n",
      "eopenrate      0\n",
      "esent          0\n",
      "retained       0\n",
      "dtype: int64\n",
      "lastorder     3\n",
      "firstorder    3\n",
      "created       3\n",
      "custid        3\n",
      "city          0\n",
      "favday        0\n",
      "train         0\n",
      "doorstep      0\n",
      "refill        0\n",
      "paperless     0\n",
      "ordfreq       0\n",
      "avgorder      0\n",
      "eclickrate    0\n",
      "eopenrate     0\n",
      "esent         0\n",
      "retained      0\n",
      "dtype: int64\n"
     ]
    }
   ],
   "source": [
    "with pd.option_context('display.max_rows', 150):\n",
    "     print(train.isnull().sum().sort_values(ascending = False))\n",
    "\n",
    "with pd.option_context('display.max_rows', 150):\n",
    "     print(test.isnull().sum().sort_values(ascending = False))"
   ]
  },
  {
   "cell_type": "markdown",
   "metadata": {},
   "source": [
    "### Drop Lines With Nulls"
   ]
  },
  {
   "cell_type": "code",
   "execution_count": 658,
   "metadata": {},
   "outputs": [],
   "source": [
    "train = train.dropna()\n",
    "test = test.dropna()"
   ]
  },
  {
   "cell_type": "markdown",
   "metadata": {},
   "source": [
    "### Separate the Labels"
   ]
  },
  {
   "cell_type": "code",
   "execution_count": 659,
   "metadata": {},
   "outputs": [],
   "source": [
    "labeltrain = train.loc[:,'retained']\n",
    "labeltest = test.loc[:,'retained']\n",
    "\n",
    "train = train.drop(columns = 'retained')\n",
    "test = test.drop(columns = 'retained')"
   ]
  },
  {
   "cell_type": "markdown",
   "metadata": {},
   "source": [
    "### Creation of Dummy Variable 'weekend' (for question 4)"
   ]
  },
  {
   "cell_type": "code",
   "execution_count": 660,
   "metadata": {},
   "outputs": [],
   "source": [
    "weekendtrain = []\n",
    "for each in train.loc[:,'favday']:\n",
    "    if each in ['Friday','Saturday','Sunday']:\n",
    "        weekendtrain.append(1)\n",
    "    else:\n",
    "        weekendtrain.append(0)\n",
    "\n",
    "train = pd.concat([train, pd.DataFrame(weekendtrain, columns = ['weekend'], index = train.index)], axis = 1)\n",
    "\n",
    "\n",
    "weekendtest = []\n",
    "for each in test.loc[:,'favday']:\n",
    "    if each in ['Friday','Saturday','Sunday']:\n",
    "        weekendtest.append(1)\n",
    "    else:\n",
    "        weekendtest.append(0)\n",
    "        \n",
    "test = pd.concat([test, pd.DataFrame(weekendtest, columns = ['weekend'],index = test.index)], axis = 1)"
   ]
  },
  {
   "cell_type": "markdown",
   "metadata": {},
   "source": [
    "### Print Number of Each Class in Both Test and Train Datasets"
   ]
  },
  {
   "cell_type": "code",
   "execution_count": 661,
   "metadata": {},
   "outputs": [
    {
     "name": "stdout",
     "output_type": "stream",
     "text": [
      "Train 0: 5037 Train 1: 19525\n",
      "Test 0: 1286 Test 1: 4933\n"
     ]
    }
   ],
   "source": [
    "trainlabel0 = 0\n",
    "trainlabel1 = 0\n",
    "for each in labeltrain:\n",
    "    if each == 0:\n",
    "        trainlabel0 += 1\n",
    "    elif each == 1:\n",
    "        trainlabel1 += 1\n",
    "\n",
    "print('Train 0:', trainlabel0, 'Train 1:', trainlabel1)\n",
    "        \n",
    "testlabel0 = 0\n",
    "testlabel1 = 0\n",
    "for each in labeltest:\n",
    "    if each == 0:\n",
    "        testlabel0 += 1\n",
    "    elif each == 1:\n",
    "        testlabel1 += 1\n",
    "\n",
    "print('Test 0:', testlabel0, 'Test 1:', testlabel1)"
   ]
  },
  {
   "cell_type": "markdown",
   "metadata": {},
   "source": [
    "### Artificially Balance Both Datasets (optional, downsampling is randomized)"
   ]
  },
  {
   "cell_type": "code",
   "execution_count": 662,
   "metadata": {},
   "outputs": [],
   "source": [
    "\n",
    "labels = np.array(labeltrain)\n",
    "\n",
    "defaultindex = []\n",
    "for ind,each in enumerate(labels):\n",
    "    if each == 0:\n",
    "        defaultindex.append(ind)\n",
    "\n",
    "selectionpool = defaultindex + list(random.sample(list(set(range(0,len(labels))) - set(defaultindex)), len(defaultindex)))\n",
    "\n",
    "labeltrain = labels[selectionpool]\n",
    "train = train.iloc[selectionpool,:]\n",
    "\n",
    "\n",
    "labels = np.array(labeltest)\n",
    "\n",
    "defaultindex = []\n",
    "for ind,each in enumerate(labels):\n",
    "    if each == 0:\n",
    "        defaultindex.append(ind)\n",
    "\n",
    "selectionpool = defaultindex + list(random.sample(list(set(range(0,len(labels))) - set(defaultindex)), len(defaultindex)))\n",
    "\n",
    "labeltest = labels[selectionpool]\n",
    "test = test.iloc[selectionpool,:]\n"
   ]
  },
  {
   "cell_type": "markdown",
   "metadata": {},
   "source": [
    "### Normalize Features (optional)"
   ]
  },
  {
   "cell_type": "code",
   "execution_count": 663,
   "metadata": {},
   "outputs": [],
   "source": [
    "\n",
    "# scaler = StandardScaler()\n",
    "scaler = MinMaxScaler()\n",
    "scaler.fit(train.loc[:,['esent', 'eclickrate', 'avgorder', 'ordfreq', 'paperless', 'refill','doorstep', 'weekend']])  # .append(test.loc[:,['esent', 'eclickrate', 'avgorder', 'ordfreq', 'paperless', 'refill','doorstep', 'weekend']], ignore_index = True)\n",
    "tr = scaler.transform(train.loc[:,['esent', 'eclickrate', 'avgorder', 'ordfreq', 'paperless', 'refill','doorstep', 'weekend']])\n",
    "ts = scaler.transform(test.loc[:,['esent', 'eclickrate', 'avgorder', 'ordfreq', 'paperless', 'refill','doorstep', 'weekend']])\n",
    "\n",
    "train = pd.DataFrame(tr, columns = train.loc[:,['esent', 'eclickrate', 'avgorder', 'ordfreq', 'paperless', 'refill','doorstep', 'weekend']].columns)\n",
    "test = pd.DataFrame(ts, columns = test.loc[:,['esent', 'eclickrate', 'avgorder', 'ordfreq', 'paperless', 'refill','doorstep', 'weekend']].columns)\n"
   ]
  },
  {
   "cell_type": "code",
   "execution_count": 664,
   "metadata": {},
   "outputs": [
    {
     "data": {
      "text/html": [
       "<div>\n",
       "<style scoped>\n",
       "    .dataframe tbody tr th:only-of-type {\n",
       "        vertical-align: middle;\n",
       "    }\n",
       "\n",
       "    .dataframe tbody tr th {\n",
       "        vertical-align: top;\n",
       "    }\n",
       "\n",
       "    .dataframe thead th {\n",
       "        text-align: right;\n",
       "    }\n",
       "</style>\n",
       "<table border=\"1\" class=\"dataframe\">\n",
       "  <thead>\n",
       "    <tr style=\"text-align: right;\">\n",
       "      <th></th>\n",
       "      <th>esent</th>\n",
       "      <th>eclickrate</th>\n",
       "      <th>avgorder</th>\n",
       "      <th>ordfreq</th>\n",
       "      <th>paperless</th>\n",
       "      <th>refill</th>\n",
       "      <th>doorstep</th>\n",
       "      <th>weekend</th>\n",
       "    </tr>\n",
       "  </thead>\n",
       "  <tbody>\n",
       "    <tr>\n",
       "      <th>0</th>\n",
       "      <td>0.235772</td>\n",
       "      <td>0.034483</td>\n",
       "      <td>0.009677</td>\n",
       "      <td>0.000000</td>\n",
       "      <td>0.0</td>\n",
       "      <td>0.0</td>\n",
       "      <td>0.0</td>\n",
       "      <td>0.0</td>\n",
       "    </tr>\n",
       "    <tr>\n",
       "      <th>1</th>\n",
       "      <td>0.000000</td>\n",
       "      <td>0.000000</td>\n",
       "      <td>0.022380</td>\n",
       "      <td>0.018433</td>\n",
       "      <td>0.0</td>\n",
       "      <td>0.0</td>\n",
       "      <td>0.0</td>\n",
       "      <td>0.0</td>\n",
       "    </tr>\n",
       "    <tr>\n",
       "      <th>2</th>\n",
       "      <td>0.000000</td>\n",
       "      <td>0.000000</td>\n",
       "      <td>0.036630</td>\n",
       "      <td>0.000000</td>\n",
       "      <td>0.0</td>\n",
       "      <td>0.0</td>\n",
       "      <td>0.0</td>\n",
       "      <td>0.0</td>\n",
       "    </tr>\n",
       "    <tr>\n",
       "      <th>3</th>\n",
       "      <td>0.130081</td>\n",
       "      <td>0.000000</td>\n",
       "      <td>0.039489</td>\n",
       "      <td>0.039801</td>\n",
       "      <td>1.0</td>\n",
       "      <td>1.0</td>\n",
       "      <td>0.0</td>\n",
       "      <td>0.0</td>\n",
       "    </tr>\n",
       "    <tr>\n",
       "      <th>4</th>\n",
       "      <td>0.105691</td>\n",
       "      <td>0.153846</td>\n",
       "      <td>0.104331</td>\n",
       "      <td>0.036650</td>\n",
       "      <td>1.0</td>\n",
       "      <td>0.0</td>\n",
       "      <td>0.0</td>\n",
       "      <td>0.0</td>\n",
       "    </tr>\n",
       "    <tr>\n",
       "      <th>...</th>\n",
       "      <td>...</td>\n",
       "      <td>...</td>\n",
       "      <td>...</td>\n",
       "      <td>...</td>\n",
       "      <td>...</td>\n",
       "      <td>...</td>\n",
       "      <td>...</td>\n",
       "      <td>...</td>\n",
       "    </tr>\n",
       "    <tr>\n",
       "      <th>10069</th>\n",
       "      <td>0.365854</td>\n",
       "      <td>0.066667</td>\n",
       "      <td>0.026673</td>\n",
       "      <td>0.000000</td>\n",
       "      <td>1.0</td>\n",
       "      <td>1.0</td>\n",
       "      <td>0.0</td>\n",
       "      <td>1.0</td>\n",
       "    </tr>\n",
       "    <tr>\n",
       "      <th>10070</th>\n",
       "      <td>0.260163</td>\n",
       "      <td>0.031250</td>\n",
       "      <td>0.024420</td>\n",
       "      <td>0.034188</td>\n",
       "      <td>1.0</td>\n",
       "      <td>0.0</td>\n",
       "      <td>0.0</td>\n",
       "      <td>0.0</td>\n",
       "    </tr>\n",
       "    <tr>\n",
       "      <th>10071</th>\n",
       "      <td>0.349593</td>\n",
       "      <td>0.000000</td>\n",
       "      <td>0.041902</td>\n",
       "      <td>0.051282</td>\n",
       "      <td>1.0</td>\n",
       "      <td>0.0</td>\n",
       "      <td>0.0</td>\n",
       "      <td>0.0</td>\n",
       "    </tr>\n",
       "    <tr>\n",
       "      <th>10072</th>\n",
       "      <td>0.056911</td>\n",
       "      <td>0.285714</td>\n",
       "      <td>0.026673</td>\n",
       "      <td>0.000000</td>\n",
       "      <td>1.0</td>\n",
       "      <td>0.0</td>\n",
       "      <td>0.0</td>\n",
       "      <td>0.0</td>\n",
       "    </tr>\n",
       "    <tr>\n",
       "      <th>10073</th>\n",
       "      <td>0.292683</td>\n",
       "      <td>0.027778</td>\n",
       "      <td>0.091221</td>\n",
       "      <td>0.000000</td>\n",
       "      <td>1.0</td>\n",
       "      <td>0.0</td>\n",
       "      <td>0.0</td>\n",
       "      <td>0.0</td>\n",
       "    </tr>\n",
       "  </tbody>\n",
       "</table>\n",
       "<p>10074 rows × 8 columns</p>\n",
       "</div>"
      ],
      "text/plain": [
       "          esent  eclickrate  avgorder   ordfreq  paperless  refill  doorstep  \\\n",
       "0      0.235772    0.034483  0.009677  0.000000        0.0     0.0       0.0   \n",
       "1      0.000000    0.000000  0.022380  0.018433        0.0     0.0       0.0   \n",
       "2      0.000000    0.000000  0.036630  0.000000        0.0     0.0       0.0   \n",
       "3      0.130081    0.000000  0.039489  0.039801        1.0     1.0       0.0   \n",
       "4      0.105691    0.153846  0.104331  0.036650        1.0     0.0       0.0   \n",
       "...         ...         ...       ...       ...        ...     ...       ...   \n",
       "10069  0.365854    0.066667  0.026673  0.000000        1.0     1.0       0.0   \n",
       "10070  0.260163    0.031250  0.024420  0.034188        1.0     0.0       0.0   \n",
       "10071  0.349593    0.000000  0.041902  0.051282        1.0     0.0       0.0   \n",
       "10072  0.056911    0.285714  0.026673  0.000000        1.0     0.0       0.0   \n",
       "10073  0.292683    0.027778  0.091221  0.000000        1.0     0.0       0.0   \n",
       "\n",
       "       weekend  \n",
       "0          0.0  \n",
       "1          0.0  \n",
       "2          0.0  \n",
       "3          0.0  \n",
       "4          0.0  \n",
       "...        ...  \n",
       "10069      1.0  \n",
       "10070      0.0  \n",
       "10071      0.0  \n",
       "10072      0.0  \n",
       "10073      0.0  \n",
       "\n",
       "[10074 rows x 8 columns]"
      ]
     },
     "execution_count": 664,
     "metadata": {},
     "output_type": "execute_result"
    }
   ],
   "source": [
    "train"
   ]
  },
  {
   "cell_type": "markdown",
   "metadata": {},
   "source": [
    "### Question 1"
   ]
  },
  {
   "cell_type": "code",
   "execution_count": 665,
   "metadata": {},
   "outputs": [
    {
     "name": "stdout",
     "output_type": "stream",
     "text": [
      "Test Accuracy #1: 0.9008553654743391\n",
      "Coefficients #1: {'esent': 19.337318647983697, 'eclickrate': 1.4641718752915975, 'avgorder': -2.37947140485871, 'ordfreq': -0.9112913649951652, 'paperless': 0.4722783429660614, 'refill': 0.5981144931185078, 'doorstep': 0.4707551348915645}\n"
     ]
    },
    {
     "data": {
      "text/plain": [
       "Text(0.5, 1, 'Test Dataset Confusion Matrix')"
      ]
     },
     "execution_count": 665,
     "metadata": {},
     "output_type": "execute_result"
    },
    {
     "data": {
      "image/png": "[encoded data removed]",
      "text/plain": [
       "<Figure size 432x288 with 2 Axes>"
      ]
     },
     "metadata": {
      "needs_background": "light"
     },
     "output_type": "display_data"
    }
   ],
   "source": [
    "selection1 = ['esent', 'eclickrate', 'avgorder', 'ordfreq', 'paperless', 'refill', 'doorstep']\n",
    "LRmodel1 = LogisticRegression()\n",
    "LRmodel1.fit(train.loc[:,selection1],labeltrain)\n",
    "print('Test Accuracy #1: ' + str(LRmodel1.score(test.loc[:,selection1],labeltest)))\n",
    "\n",
    "coef1 = {}\n",
    "for ind,each in enumerate(selection1):\n",
    "    coef1[each] = LRmodel1.coef_[0][ind]\n",
    "print('Coefficients #1: ' + str(coef1))\n",
    "\n",
    "preds = LRmodel1.predict(test.loc[:,selection1])\n",
    "cf = pd.crosstab(preds, labeltest)\n",
    "sb.heatmap(cf, annot = True, cmap = \"Blues\", fmt='g')\n",
    "plt.xlabel('Actual')\n",
    "plt.ylabel('Prediction')\n",
    "plt.title('Test Dataset Confusion Matrix')"
   ]
  },
  {
   "cell_type": "markdown",
   "metadata": {},
   "source": [
    "### Question 2"
   ]
  },
  {
   "cell_type": "code",
   "execution_count": 666,
   "metadata": {},
   "outputs": [
    {
     "name": "stdout",
     "output_type": "stream",
     "text": [
      "Test Accuracy #2: 0.6108087091757387\n",
      "Coefficients #2: {'avgorder': 1.3020131516307225, 'ordfreq': 0.2580951304964665, 'paperless': 0.7604728491973656, 'refill': 0.813396710371087, 'doorstep': 0.8221104209344571}\n"
     ]
    },
    {
     "data": {
      "text/plain": [
       "Text(0.5, 1, 'Test Dataset Confusion Matrix')"
      ]
     },
     "execution_count": 666,
     "metadata": {},
     "output_type": "execute_result"
    },
    {
     "data": {
      "image/png": "[encoded data removed]",
      "text/plain": [
       "<Figure size 432x288 with 2 Axes>"
      ]
     },
     "metadata": {
      "needs_background": "light"
     },
     "output_type": "display_data"
    }
   ],
   "source": [
    "selection2 = ['avgorder', 'ordfreq', 'paperless', 'refill', 'doorstep']\n",
    "\n",
    "LRmodel2 = LogisticRegression()\n",
    "LRmodel2.fit(train.loc[:,selection2],labeltrain)\n",
    "print('Test Accuracy #2: ' + str(LRmodel2.score(test.loc[:,selection2],labeltest)))\n",
    "\n",
    "coef2 = {}\n",
    "for ind,each in enumerate(selection2):\n",
    "    coef2[each] = LRmodel2.coef_[0][ind]\n",
    "print('Coefficients #2: ' + str(coef2))\n",
    "\n",
    "preds = LRmodel2.predict(test.loc[:,selection2])\n",
    "cf = pd.crosstab(preds, labeltest)\n",
    "sb.heatmap(cf, annot = True, cmap = \"Blues\", fmt='g')\n",
    "plt.xlabel('Actual')\n",
    "plt.ylabel('Prediction')\n",
    "plt.title('Test Dataset Confusion Matrix')"
   ]
  },
  {
   "cell_type": "markdown",
   "metadata": {},
   "source": [
    "### Question 3"
   ]
  },
  {
   "cell_type": "code",
   "execution_count": 667,
   "metadata": {},
   "outputs": [
    {
     "name": "stdout",
     "output_type": "stream",
     "text": [
      "Test Accuracy #3: 0.8996889580093312\n",
      "Coefficients #3: {'esent': 19.514329344225853}\n"
     ]
    },
    {
     "data": {
      "text/plain": [
       "Text(0.5, 1, 'Test Dataset Confusion Matrix')"
      ]
     },
     "execution_count": 667,
     "metadata": {},
     "output_type": "execute_result"
    },
    {
     "data": {
      "image/png": "[encoded data removed]",
      "text/plain": [
       "<Figure size 432x288 with 2 Axes>"
      ]
     },
     "metadata": {
      "needs_background": "light"
     },
     "output_type": "display_data"
    }
   ],
   "source": [
    "selection3 = ['esent']\n",
    "\n",
    "LRmodel3 = LogisticRegression()\n",
    "LRmodel3.fit(train.loc[:,selection3],labeltrain)\n",
    "print('Test Accuracy #3: ' + str(LRmodel3.score(test.loc[:,selection3],labeltest)))\n",
    "\n",
    "coef3 = {}\n",
    "for ind,each in enumerate(selection3):\n",
    "    coef3[each] = LRmodel3.coef_[0][ind]\n",
    "print('Coefficients #3: ' + str(coef3))\n",
    "\n",
    "preds = LRmodel3.predict(test.loc[:,selection3])\n",
    "cf = pd.crosstab(preds, labeltest)\n",
    "sb.heatmap(cf, annot = True, cmap = \"Blues\", fmt='g')\n",
    "plt.xlabel('Actual')\n",
    "plt.ylabel('Prediction')\n",
    "plt.title('Test Dataset Confusion Matrix')"
   ]
  },
  {
   "cell_type": "markdown",
   "metadata": {},
   "source": [
    "### Question 4"
   ]
  },
  {
   "cell_type": "code",
   "execution_count": 668,
   "metadata": {},
   "outputs": [
    {
     "name": "stdout",
     "output_type": "stream",
     "text": [
      "Test Accuracy #4: 0.9004665629860031\n",
      "Coefficients #4: {'esent': 19.35526656319697, 'eclickrate': 1.4726807653541245, 'avgorder': -2.356679744784569, 'ordfreq': -0.920491254460746, 'paperless': 0.47302092241790916, 'refill': 0.6000717751933278, 'doorstep': 0.4636059084131296, 'weekend': 0.15618924491832217}\n"
     ]
    },
    {
     "data": {
      "text/plain": [
       "Text(0.5, 1, 'Test Dataset Confusion Matrix')"
      ]
     },
     "execution_count": 668,
     "metadata": {},
     "output_type": "execute_result"
    },
    {
     "data": {
      "image/png": "[encoded data removed]",
      "text/plain": [
       "<Figure size 432x288 with 2 Axes>"
      ]
     },
     "metadata": {
      "needs_background": "light"
     },
     "output_type": "display_data"
    }
   ],
   "source": [
    "selection4 = ['esent', 'eclickrate', 'avgorder', 'ordfreq', 'paperless', 'refill','doorstep', 'weekend']\n",
    "\n",
    "LRmodel4 = LogisticRegression()\n",
    "LRmodel4.fit(train.loc[:,selection4],labeltrain)\n",
    "print('Test Accuracy #4: ' + str(LRmodel4.score(test.loc[:,selection4],labeltest)))\n",
    "\n",
    "coef4 = {}\n",
    "for ind,each in enumerate(selection4):\n",
    "    coef4[each] = LRmodel4.coef_[0][ind]\n",
    "print('Coefficients #4: ' + str(coef4))\n",
    "\n",
    "preds = LRmodel4.predict(test.loc[:,selection4])\n",
    "cf = pd.crosstab(preds, labeltest)\n",
    "sb.heatmap(cf, annot = True, cmap = \"Blues\", fmt='g')\n",
    "plt.xlabel('Actual')\n",
    "plt.ylabel('Prediction')\n",
    "plt.title('Test Dataset Confusion Matrix')"
   ]
  },
  {
   "cell_type": "markdown",
   "metadata": {},
   "source": [
    "### Begin RandomForest Model"
   ]
  },
  {
   "cell_type": "code",
   "execution_count": 669,
   "metadata": {},
   "outputs": [],
   "source": [
    "from sklearn.ensemble import RandomForestClassifier"
   ]
  },
  {
   "cell_type": "code",
   "execution_count": 670,
   "metadata": {},
   "outputs": [],
   "source": [
    "selection5 = ['esent', 'eclickrate', 'ordfreq', 'paperless', 'refill']"
   ]
  },
  {
   "cell_type": "code",
   "execution_count": 671,
   "metadata": {},
   "outputs": [
    {
     "name": "stdout",
     "output_type": "stream",
     "text": [
      "0.916796267496112\n"
     ]
    },
    {
     "data": {
      "text/plain": [
       "Text(33.0, 0.5, 'Prediction')"
      ]
     },
     "execution_count": 671,
     "metadata": {},
     "output_type": "execute_result"
    },
    {
     "data": {
      "image/png": "[encoded data removed]",
      "text/plain": [
       "<Figure size 432x288 with 2 Axes>"
      ]
     },
     "metadata": {
      "needs_background": "light"
     },
     "output_type": "display_data"
    }
   ],
   "source": [
    "RFmodel = RandomForestClassifier(n_estimators = 100)\n",
    "RFmodel.fit(train.loc[:,selection5], labeltrain)\n",
    "preds = RFmodel.predict(test.loc[:,selection5])\n",
    "\n",
    "cf = pd.crosstab(preds, labeltest)\n",
    "\n",
    "print(RFmodel.score(test.loc[:,selection5],labeltest))\n",
    "\n",
    "sb.heatmap(cf, annot = True, cmap = \"Blues\", fmt='g')\n",
    "plt.xlabel('Actual')\n",
    "plt.ylabel('Prediction')"
   ]
  },
  {
   "cell_type": "markdown",
   "metadata": {},
   "source": [
    "### Begin XGBoost Model"
   ]
  },
  {
   "cell_type": "code",
   "execution_count": 672,
   "metadata": {},
   "outputs": [],
   "source": [
    "from xgboost import XGBClassifier\n",
    "import xgboost as xgb"
   ]
  },
  {
   "cell_type": "code",
   "execution_count": 673,
   "metadata": {},
   "outputs": [
    {
     "name": "stdout",
     "output_type": "stream",
     "text": [
      "0.9210730948678072\n"
     ]
    },
    {
     "data": {
      "text/plain": [
       "Text(33.0, 0.5, 'Prediction')"
      ]
     },
     "execution_count": 673,
     "metadata": {},
     "output_type": "execute_result"
    },
    {
     "data": {
      "image/png": "[encoded data removed]",
      "text/plain": [
       "<Figure size 432x288 with 2 Axes>"
      ]
     },
     "metadata": {
      "needs_background": "light"
     },
     "output_type": "display_data"
    }
   ],
   "source": [
    "XGBmodel = XGBClassifier() \n",
    "XGBmodel.fit(train.loc[:,selection5], labeltrain)\n",
    "preds = XGBmodel.predict(test.loc[:,selection5])\n",
    "\n",
    "print(XGBmodel.score(test.loc[:,selection5],labeltest))\n",
    "\n",
    "cf = pd.crosstab(preds, labeltest)\n",
    "\n",
    "sb.heatmap(cf, annot = True, cmap = \"Blues\", fmt='g')\n",
    "plt.xlabel('Actual')\n",
    "plt.ylabel('Prediction')"
   ]
  },
  {
   "cell_type": "code",
   "execution_count": 674,
   "metadata": {},
   "outputs": [
    {
     "data": {
      "text/plain": [
       "<matplotlib.axes._subplots.AxesSubplot at 0x22c20f0ab38>"
      ]
     },
     "execution_count": 674,
     "metadata": {},
     "output_type": "execute_result"
    },
    {
     "data": {
      "image/png": "[encoded data removed]",
      "text/plain": [
       "<Figure size 432x288 with 1 Axes>"
      ]
     },
     "metadata": {
      "needs_background": "light"
     },
     "output_type": "display_data"
    }
   ],
   "source": [
    "xgb.plot_importance(XGBmodel, importance_type = 'gain')"
   ]
  },
  {
   "cell_type": "code",
   "execution_count": 675,
   "metadata": {},
   "outputs": [
    {
     "data": {
      "text/plain": [
       "<matplotlib.axes._subplots.AxesSubplot at 0x22c21097ba8>"
      ]
     },
     "execution_count": 675,
     "metadata": {},
     "output_type": "execute_result"
    },
    {
     "data": {
      "image/png": "[encoded data removed]",
      "text/plain": [
       "<Figure size 432x288 with 1 Axes>"
      ]
     },
     "metadata": {
      "needs_background": "light"
     },
     "output_type": "display_data"
    }
   ],
   "source": [
    "xgb.plot_importance(XGBmodel, importance_type = 'weight')"
   ]
  },
  {
   "cell_type": "code",
   "execution_count": null,
   "metadata": {},
   "outputs": [],
   "source": []
  },
  {
   "cell_type": "code",
   "execution_count": null,
   "metadata": {},
   "outputs": [],
   "source": []
  }
 ],
 "metadata": {
  "kernelspec": {
   "display_name": "Python 3",
   "language": "python",
   "name": "python3"
  },
  "language_info": {
   "codemirror_mode": {
    "name": "ipython",
    "version": 3
   },
   "file_extension": ".py",
   "mimetype": "text/x-python",
   "name": "python",
   "nbconvert_exporter": "python",
   "pygments_lexer": "ipython3",
   "version": "3.7.3"
  }
 },
 "nbformat": 4,
 "nbformat_minor": 2
}
