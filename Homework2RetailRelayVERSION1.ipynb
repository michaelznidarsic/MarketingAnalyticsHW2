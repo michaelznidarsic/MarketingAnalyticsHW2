{
 "cells": [
  {
   "cell_type": "code",
   "execution_count": 73,
   "metadata": {},
   "outputs": [],
   "source": [
    "import os\n",
    "import pandas as pd\n",
    "import numpy as np\n",
    "import matplotlib.pylab as plt\n",
    "import seaborn as sb\n",
    "import random\n",
    "\n",
    "from sklearn.linear_model import LogisticRegression\n",
    "\n",
    "from sklearn.preprocessing import MinMaxScaler, StandardScaler\n",
    "\n",
    "import warnings\n",
    "warnings.filterwarnings(\"ignore\", category=DeprecationWarning)\n",
    "warnings.filterwarnings(\"ignore\", category=FutureWarning)"
   ]
  },
  {
   "cell_type": "code",
   "execution_count": 74,
   "metadata": {},
   "outputs": [],
   "source": [
    "train = pd.read_csv('D:\\\\relaytrain_2_2_2_2_2_2_2_2_2_2_2_2.csv')\n",
    "test = pd.read_csv('D:\\\\relaytest_2_2_2_2_2_2_2_2_2_2_2_2.csv')"
   ]
  },
  {
   "cell_type": "markdown",
   "metadata": {},
   "source": [
    "### Null Evaluation"
   ]
  },
  {
   "cell_type": "code",
   "execution_count": 75,
   "metadata": {},
   "outputs": [
    {
     "name": "stdout",
     "output_type": "stream",
     "text": [
      "lastorder     17\n",
      "firstorder    17\n",
      "created       17\n",
      "custid        17\n",
      "city           0\n",
      "favday         0\n",
      "train          0\n",
      "doorstep       0\n",
      "refill         0\n",
      "paperless      0\n",
      "ordfreq        0\n",
      "avgorder       0\n",
      "eclickrate     0\n",
      "eopenrate      0\n",
      "esent          0\n",
      "retained       0\n",
      "dtype: int64\n",
      "lastorder     3\n",
      "firstorder    3\n",
      "created       3\n",
      "custid        3\n",
      "city          0\n",
      "favday        0\n",
      "train         0\n",
      "doorstep      0\n",
      "refill        0\n",
      "paperless     0\n",
      "ordfreq       0\n",
      "avgorder      0\n",
      "eclickrate    0\n",
      "eopenrate     0\n",
      "esent         0\n",
      "retained      0\n",
      "dtype: int64\n"
     ]
    }
   ],
   "source": [
    "with pd.option_context('display.max_rows', 150):\n",
    "     print(train.isnull().sum().sort_values(ascending = False))\n",
    "\n",
    "with pd.option_context('display.max_rows', 150):\n",
    "     print(test.isnull().sum().sort_values(ascending = False))"
   ]
  },
  {
   "cell_type": "markdown",
   "metadata": {},
   "source": [
    "### Drop Lines With Nulls"
   ]
  },
  {
   "cell_type": "code",
   "execution_count": 76,
   "metadata": {},
   "outputs": [],
   "source": [
    "train = train.dropna()\n",
    "test = test.dropna()"
   ]
  },
  {
   "cell_type": "markdown",
   "metadata": {},
   "source": [
    "### Separate the Labels"
   ]
  },
  {
   "cell_type": "code",
   "execution_count": 77,
   "metadata": {},
   "outputs": [],
   "source": [
    "labeltrain = train.loc[:,'retained']\n",
    "labeltest = test.loc[:,'retained']\n",
    "\n",
    "train = train.drop(columns = 'retained')\n",
    "test = test.drop(columns = 'retained')"
   ]
  },
  {
   "cell_type": "markdown",
   "metadata": {},
   "source": [
    "### Creation of Dummy Variable 'weekend' (for question 4)"
   ]
  },
  {
   "cell_type": "code",
   "execution_count": 78,
   "metadata": {},
   "outputs": [],
   "source": [
    "weekendtrain = []\n",
    "for each in train.loc[:,'favday']:\n",
    "    if each in ['Friday','Saturday','Sunday']:\n",
    "        weekendtrain.append(1)\n",
    "    else:\n",
    "        weekendtrain.append(0)\n",
    "\n",
    "train = pd.concat([train, pd.DataFrame(weekendtrain, columns = ['weekend'], index = train.index)], axis = 1)\n",
    "\n",
    "\n",
    "weekendtest = []\n",
    "for each in test.loc[:,'favday']:\n",
    "    if each in ['Friday','Saturday','Sunday']:\n",
    "        weekendtest.append(1)\n",
    "    else:\n",
    "        weekendtest.append(0)\n",
    "        \n",
    "test = pd.concat([test, pd.DataFrame(weekendtest, columns = ['weekend'],index = test.index)], axis = 1)"
   ]
  },
  {
   "cell_type": "markdown",
   "metadata": {},
   "source": [
    "### Print Number of Each Class in Both Test and Train Datasets"
   ]
  },
  {
   "cell_type": "code",
   "execution_count": 79,
   "metadata": {},
   "outputs": [
    {
     "name": "stdout",
     "output_type": "stream",
     "text": [
      "Train 0: 5037 Train 1: 19525\n",
      "Test 0: 1286 Test 1: 4933\n"
     ]
    }
   ],
   "source": [
    "trainlabel0 = 0\n",
    "trainlabel1 = 0\n",
    "for each in labeltrain:\n",
    "    if each == 0:\n",
    "        trainlabel0 += 1\n",
    "    elif each == 1:\n",
    "        trainlabel1 += 1\n",
    "\n",
    "print('Train 0:', trainlabel0, 'Train 1:', trainlabel1)\n",
    "        \n",
    "testlabel0 = 0\n",
    "testlabel1 = 0\n",
    "for each in labeltest:\n",
    "    if each == 0:\n",
    "        testlabel0 += 1\n",
    "    elif each == 1:\n",
    "        testlabel1 += 1\n",
    "\n",
    "print('Test 0:', testlabel0, 'Test 1:', testlabel1)"
   ]
  },
  {
   "cell_type": "markdown",
   "metadata": {},
   "source": [
    "### Artificially Balance Both Datasets (optional, downsampling is randomized)"
   ]
  },
  {
   "cell_type": "code",
   "execution_count": 80,
   "metadata": {},
   "outputs": [
    {
     "data": {
      "text/plain": [
       "'\\nlabels = np.array(labeltrain)\\n\\ndefaultindex = []\\nfor ind,each in enumerate(labels):\\n    if each == 0:\\n        defaultindex.append(ind)\\n\\nselectionpool = defaultindex + list(random.sample(list(set(range(0,len(labels))) - set(defaultindex)), len(defaultindex)))\\n\\nlabeltrain = labels[selectionpool]\\ntrain = train.iloc[selectionpool,:]\\n\\n\\nlabels = np.array(labeltest)\\n\\ndefaultindex = []\\nfor ind,each in enumerate(labels):\\n    if each == 0:\\n        defaultindex.append(ind)\\n\\nselectionpool = defaultindex + list(random.sample(list(set(range(0,len(labels))) - set(defaultindex)), len(defaultindex)))\\n\\nlabeltest = labels[selectionpool]\\ntest = test.iloc[selectionpool,:]\\n'"
      ]
     },
     "execution_count": 80,
     "metadata": {},
     "output_type": "execute_result"
    }
   ],
   "source": [
    "'''\n",
    "labels = np.array(labeltrain)\n",
    "\n",
    "defaultindex = []\n",
    "for ind,each in enumerate(labels):\n",
    "    if each == 0:\n",
    "        defaultindex.append(ind)\n",
    "\n",
    "selectionpool = defaultindex + list(random.sample(list(set(range(0,len(labels))) - set(defaultindex)), len(defaultindex)))\n",
    "\n",
    "labeltrain = labels[selectionpool]\n",
    "train = train.iloc[selectionpool,:]\n",
    "\n",
    "\n",
    "labels = np.array(labeltest)\n",
    "\n",
    "defaultindex = []\n",
    "for ind,each in enumerate(labels):\n",
    "    if each == 0:\n",
    "        defaultindex.append(ind)\n",
    "\n",
    "selectionpool = defaultindex + list(random.sample(list(set(range(0,len(labels))) - set(defaultindex)), len(defaultindex)))\n",
    "\n",
    "labeltest = labels[selectionpool]\n",
    "test = test.iloc[selectionpool,:]\n",
    "'''"
   ]
  },
  {
   "cell_type": "markdown",
   "metadata": {},
   "source": [
    "### Normalize Features (optional)"
   ]
  },
  {
   "cell_type": "code",
   "execution_count": 81,
   "metadata": {},
   "outputs": [
    {
     "data": {
      "text/plain": [
       "'\\nscaler = StandardScaler()\\n# scaler = MinMaxScaler()\\ntrain = scaler.fit_transform(train)\\ntest = scaler.fit_transform(test)\\n'"
      ]
     },
     "execution_count": 81,
     "metadata": {},
     "output_type": "execute_result"
    }
   ],
   "source": [
    "'''\n",
    "scaler = StandardScaler()\n",
    "# scaler = MinMaxScaler()\n",
    "train = scaler.fit_transform(train)\n",
    "test = scaler.fit_transform(test)\n",
    "'''"
   ]
  },
  {
   "cell_type": "markdown",
   "metadata": {},
   "source": [
    "### Question 1"
   ]
  },
  {
   "cell_type": "code",
   "execution_count": 82,
   "metadata": {},
   "outputs": [
    {
     "name": "stdout",
     "output_type": "stream",
     "text": [
      "Test Accuracy #1: 0.9403441067695771\n",
      "Coefficients #1: {'esent': 0.21072239500958395, 'eclickrate': 0.019165916243055053, 'avgorder': -0.003630732547368471, 'ordfreq': -0.5797637826670766, 'paperless': 0.5188772217515176, 'refill': 0.770382016068154, 'doorstep': 0.8408595012707372}\n"
     ]
    },
    {
     "data": {
      "text/plain": [
       "Text(0.5, 1, 'Test Dataset Confusion Matrix')"
      ]
     },
     "execution_count": 82,
     "metadata": {},
     "output_type": "execute_result"
    },
    {
     "data": {
      "image/png": "[encoded data removed]",
      "text/plain": [
       "<Figure size 432x288 with 2 Axes>"
      ]
     },
     "metadata": {
      "needs_background": "light"
     },
     "output_type": "display_data"
    }
   ],
   "source": [
    "selection1 = ['esent', 'eclickrate', 'avgorder', 'ordfreq', 'paperless', 'refill', 'doorstep']\n",
    "LRmodel1 = LogisticRegression()\n",
    "LRmodel1.fit(train.loc[:,selection1],labeltrain)\n",
    "print('Test Accuracy #1: ' + str(LRmodel1.score(test.loc[:,selection1],labeltest)))\n",
    "\n",
    "coef1 = {}\n",
    "for ind,each in enumerate(selection1):\n",
    "    coef1[each] = LRmodel1.coef_[0][ind]\n",
    "print('Coefficients #1: ' + str(coef1))\n",
    "\n",
    "preds = LRmodel1.predict(test.loc[:,selection1])\n",
    "cf = pd.crosstab(preds, labeltest)\n",
    "sb.heatmap(cf, annot = True, cmap = \"Blues\", fmt='g')\n",
    "plt.xlabel('Actual')\n",
    "plt.ylabel('Prediction')\n",
    "plt.title('Test Dataset Confusion Matrix')"
   ]
  },
  {
   "cell_type": "markdown",
   "metadata": {},
   "source": [
    "### Question 2"
   ]
  },
  {
   "cell_type": "code",
   "execution_count": 83,
   "metadata": {},
   "outputs": [
    {
     "name": "stdout",
     "output_type": "stream",
     "text": [
      "Test Accuracy #2: 0.7932143431419842\n",
      "Coefficients #2: {'avgorder': 0.002093718214550798, 'ordfreq': 0.07638721998891028, 'paperless': 0.8124616299265967, 'refill': 0.85834736664773, 'doorstep': 0.7539272444436784}\n"
     ]
    },
    {
     "data": {
      "text/plain": [
       "Text(0.5, 1, 'Test Dataset Confusion Matrix')"
      ]
     },
     "execution_count": 83,
     "metadata": {},
     "output_type": "execute_result"
    },
    {
     "data": {
      "image/png": "[encoded data removed]",
      "text/plain": [
       "<Figure size 432x288 with 2 Axes>"
      ]
     },
     "metadata": {
      "needs_background": "light"
     },
     "output_type": "display_data"
    }
   ],
   "source": [
    "selection2 = ['avgorder', 'ordfreq', 'paperless', 'refill', 'doorstep']\n",
    "\n",
    "LRmodel2 = LogisticRegression()\n",
    "LRmodel2.fit(train.loc[:,selection2],labeltrain)\n",
    "print('Test Accuracy #2: ' + str(LRmodel2.score(test.loc[:,selection2],labeltest)))\n",
    "\n",
    "coef2 = {}\n",
    "for ind,each in enumerate(selection2):\n",
    "    coef2[each] = LRmodel2.coef_[0][ind]\n",
    "print('Coefficients #2: ' + str(coef2))\n",
    "\n",
    "preds = LRmodel2.predict(test.loc[:,selection2])\n",
    "cf = pd.crosstab(preds, labeltest)\n",
    "sb.heatmap(cf, annot = True, cmap = \"Blues\", fmt='g')\n",
    "plt.xlabel('Actual')\n",
    "plt.ylabel('Prediction')\n",
    "plt.title('Test Dataset Confusion Matrix')"
   ]
  },
  {
   "cell_type": "markdown",
   "metadata": {},
   "source": [
    "### Question 3"
   ]
  },
  {
   "cell_type": "code",
   "execution_count": 84,
   "metadata": {},
   "outputs": [
    {
     "name": "stdout",
     "output_type": "stream",
     "text": [
      "Test Accuracy #3: 0.9249075414053707\n",
      "Coefficients #3: {'esent': 0.21120866913713626}\n"
     ]
    },
    {
     "data": {
      "text/plain": [
       "Text(0.5, 1, 'Test Dataset Confusion Matrix')"
      ]
     },
     "execution_count": 84,
     "metadata": {},
     "output_type": "execute_result"
    },
    {
     "data": {
      "image/png": "[encoded data removed]",
      "text/plain": [
       "<Figure size 432x288 with 2 Axes>"
      ]
     },
     "metadata": {
      "needs_background": "light"
     },
     "output_type": "display_data"
    }
   ],
   "source": [
    "selection3 = ['esent']\n",
    "\n",
    "LRmodel3 = LogisticRegression()\n",
    "LRmodel3.fit(train.loc[:,selection3],labeltrain)\n",
    "print('Test Accuracy #3: ' + str(LRmodel3.score(test.loc[:,selection3],labeltest)))\n",
    "\n",
    "coef3 = {}\n",
    "for ind,each in enumerate(selection3):\n",
    "    coef3[each] = LRmodel3.coef_[0][ind]\n",
    "print('Coefficients #3: ' + str(coef3))\n",
    "\n",
    "preds = LRmodel3.predict(test.loc[:,selection3])\n",
    "cf = pd.crosstab(preds, labeltest)\n",
    "sb.heatmap(cf, annot = True, cmap = \"Blues\", fmt='g')\n",
    "plt.xlabel('Actual')\n",
    "plt.ylabel('Prediction')\n",
    "plt.title('Test Dataset Confusion Matrix')"
   ]
  },
  {
   "cell_type": "markdown",
   "metadata": {},
   "source": [
    "### Question 4"
   ]
  },
  {
   "cell_type": "code",
   "execution_count": 85,
   "metadata": {},
   "outputs": [
    {
     "name": "stdout",
     "output_type": "stream",
     "text": [
      "Test Accuracy #4: 0.9408264994372085\n",
      "Coefficients #4: {'esent': 0.21115343970357295, 'eclickrate': 0.019239091687797197, 'avgorder': -0.0035822134337208543, 'ordfreq': -0.5714613673828615, 'paperless': 0.5121950741371768, 'refill': 0.7604063593785594, 'doorstep': 0.8170097061952735, 'weekend': 0.258450907934448}\n"
     ]
    },
    {
     "data": {
      "text/plain": [
       "Text(0.5, 1, 'Test Dataset Confusion Matrix')"
      ]
     },
     "execution_count": 85,
     "metadata": {},
     "output_type": "execute_result"
    },
    {
     "data": {
      "image/png": "[encoded data removed]",
      "text/plain": [
       "<Figure size 432x288 with 2 Axes>"
      ]
     },
     "metadata": {
      "needs_background": "light"
     },
     "output_type": "display_data"
    }
   ],
   "source": [
    "selection4 = ['esent', 'eclickrate', 'avgorder', 'ordfreq', 'paperless', 'refill','doorstep', 'weekend']\n",
    "\n",
    "LRmodel4 = LogisticRegression()\n",
    "LRmodel4.fit(train.loc[:,selection4],labeltrain)\n",
    "print('Test Accuracy #4: ' + str(LRmodel4.score(test.loc[:,selection4],labeltest)))\n",
    "\n",
    "coef4 = {}\n",
    "for ind,each in enumerate(selection4):\n",
    "    coef4[each] = LRmodel4.coef_[0][ind]\n",
    "print('Coefficients #4: ' + str(coef4))\n",
    "\n",
    "preds = LRmodel4.predict(test.loc[:,selection4])\n",
    "cf = pd.crosstab(preds, labeltest)\n",
    "sb.heatmap(cf, annot = True, cmap = \"Blues\", fmt='g')\n",
    "plt.xlabel('Actual')\n",
    "plt.ylabel('Prediction')\n",
    "plt.title('Test Dataset Confusion Matrix')"
   ]
  },
  {
   "cell_type": "markdown",
   "metadata": {},
   "source": [
    "### Begin RandomForest Model"
   ]
  },
  {
   "cell_type": "code",
   "execution_count": 93,
   "metadata": {},
   "outputs": [],
   "source": [
    "from sklearn.ensemble import RandomForestClassifier"
   ]
  },
  {
   "cell_type": "code",
   "execution_count": 94,
   "metadata": {},
   "outputs": [
    {
     "name": "stdout",
     "output_type": "stream",
     "text": [
      "0.9480623894516803\n"
     ]
    },
    {
     "data": {
      "text/plain": [
       "Text(33.0, 0.5, 'Prediction')"
      ]
     },
     "execution_count": 94,
     "metadata": {},
     "output_type": "execute_result"
    },
    {
     "data": {
      "image/png": "[encoded data removed]",
      "text/plain": [
       "<Figure size 432x288 with 2 Axes>"
      ]
     },
     "metadata": {
      "needs_background": "light"
     },
     "output_type": "display_data"
    }
   ],
   "source": [
    "RFmodel = RandomForestClassifier(n_estimators = 100)\n",
    "RFmodel.fit(train.loc[:,selection4], labeltrain)\n",
    "preds = RFmodel.predict(test.loc[:,selection4])\n",
    "\n",
    "cf = pd.crosstab(preds, labeltest)\n",
    "\n",
    "print(RFmodel.score(test.loc[:,selection4],labeltest))\n",
    "\n",
    "sb.heatmap(cf, annot = True, cmap = \"Blues\", fmt='g')\n",
    "plt.xlabel('Actual')\n",
    "plt.ylabel('Prediction')"
   ]
  },
  {
   "cell_type": "markdown",
   "metadata": {},
   "source": [
    "### Begin XGBoost Model"
   ]
  },
  {
   "cell_type": "code",
   "execution_count": 86,
   "metadata": {},
   "outputs": [],
   "source": [
    "from xgboost import XGBClassifier\n",
    "import xgboost as xgb"
   ]
  },
  {
   "cell_type": "code",
   "execution_count": 88,
   "metadata": {},
   "outputs": [
    {
     "name": "stdout",
     "output_type": "stream",
     "text": [
      "0.954172696575012\n"
     ]
    },
    {
     "data": {
      "text/plain": [
       "Text(33.0, 0.5, 'Prediction')"
      ]
     },
     "execution_count": 88,
     "metadata": {},
     "output_type": "execute_result"
    },
    {
     "data": {
      "image/png": "[encoded data removed]",
      "text/plain": [
       "<Figure size 432x288 with 2 Axes>"
      ]
     },
     "metadata": {
      "needs_background": "light"
     },
     "output_type": "display_data"
    }
   ],
   "source": [
    "XGBmodel = XGBClassifier()\n",
    "XGBmodel.fit(train.loc[:,selection4], labeltrain)\n",
    "preds = XGBmodel.predict(test.loc[:,selection4])\n",
    "\n",
    "print(XGBmodel.score(test.loc[:,selection4],labeltest))\n",
    "\n",
    "cf = pd.crosstab(preds, labeltest)\n",
    "\n",
    "sb.heatmap(cf, annot = True, cmap = \"Blues\", fmt='g')\n",
    "plt.xlabel('Actual')\n",
    "plt.ylabel('Prediction')"
   ]
  },
  {
   "cell_type": "code",
   "execution_count": 89,
   "metadata": {},
   "outputs": [
    {
     "data": {
      "text/plain": [
       "<matplotlib.axes._subplots.AxesSubplot at 0x22c734d24e0>"
      ]
     },
     "execution_count": 89,
     "metadata": {},
     "output_type": "execute_result"
    },
    {
     "data": {
      "image/png": "[encoded data removed]",
      "text/plain": [
       "<Figure size 432x288 with 1 Axes>"
      ]
     },
     "metadata": {
      "needs_background": "light"
     },
     "output_type": "display_data"
    }
   ],
   "source": [
    "xgb.plot_importance(XGBmodel, importance_type = 'gain')"
   ]
  },
  {
   "cell_type": "code",
   "execution_count": 90,
   "metadata": {},
   "outputs": [
    {
     "data": {
      "text/plain": [
       "<matplotlib.axes._subplots.AxesSubplot at 0x22c071242e8>"
      ]
     },
     "execution_count": 90,
     "metadata": {},
     "output_type": "execute_result"
    },
    {
     "data": {
      "image/png": "[encoded data removed]",
      "text/plain": [
       "<Figure size 432x288 with 1 Axes>"
      ]
     },
     "metadata": {
      "needs_background": "light"
     },
     "output_type": "display_data"
    }
   ],
   "source": [
    "xgb.plot_importance(XGBmodel, importance_type = 'weight')"
   ]
  },
  {
   "cell_type": "code",
   "execution_count": null,
   "metadata": {},
   "outputs": [],
   "source": []
  }
 ],
 "metadata": {
  "kernelspec": {
   "display_name": "Python 3",
   "language": "python",
   "name": "python3"
  },
  "language_info": {
   "codemirror_mode": {
    "name": "ipython",
    "version": 3
   },
   "file_extension": ".py",
   "mimetype": "text/x-python",
   "name": "python",
   "nbconvert_exporter": "python",
   "pygments_lexer": "ipython3",
   "version": "3.7.3"
  }
 },
 "nbformat": 4,
 "nbformat_minor": 2
}
